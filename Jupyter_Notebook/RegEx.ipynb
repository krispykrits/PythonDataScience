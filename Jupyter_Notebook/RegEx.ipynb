{
 "metadata": {
  "language_info": {
   "codemirror_mode": {
    "name": "ipython",
    "version": 3
   },
   "file_extension": ".py",
   "mimetype": "text/x-python",
   "name": "python",
   "nbconvert_exporter": "python",
   "pygments_lexer": "ipython3",
   "version": "3.9.5"
  },
  "orig_nbformat": 4,
  "kernelspec": {
   "name": "python3",
   "display_name": "Python 3.9.5 64-bit (windows store)"
  },
  "interpreter": {
   "hash": "5038e2a29891e2f6607a77391b92a300aeb01a0774b237f09770fc4a61edec80"
  }
 },
 "nbformat": 4,
 "nbformat_minor": 2,
 "cells": [
  {
   "source": [
    "# Regular Expressions "
   ],
   "cell_type": "markdown",
   "metadata": {}
  },
  {
   "cell_type": "code",
   "execution_count": 78,
   "metadata": {},
   "outputs": [],
   "source": [
    "# Import regular expression module\n",
    "\n",
    "import re\n",
    "import numpy as np\n",
    "import math"
   ]
  },
  {
   "cell_type": "code",
   "execution_count": null,
   "metadata": {},
   "outputs": [],
   "source": [
    "# match() checks for a match that is at the beginning of the string and returns a boolean  \n",
    "# search() checks for a match anywhere in the string and returns a boolean\n",
    "\n",
    "text = \"This is just a test\"\n",
    "\n",
    "if re.search(\"test\", text):\n",
    "    print(\"Found\")\n",
    "else:\n",
    "    print(\"Not found\")\n"
   ]
  },
  {
   "cell_type": "code",
   "execution_count": null,
   "metadata": {},
   "outputs": [],
   "source": [
    "# In addition to checking for conditionals, we can segment string. The work that regex does is here is called tokenizing, \n",
    "# where the string is separated into substrings based on patterns. Tokenizing is a core activity in natural language \n",
    "# processing. \n",
    "\n",
    "# The findall() and split() functions will parse the string for us and return chunks.\n",
    "\n",
    "text = \"Today, I am supposed to be studying for my CS361 exam.\"\n",
    "\n",
    "re.split(\"CS361\", text)"
   ]
  },
  {
   "cell_type": "code",
   "execution_count": null,
   "metadata": {},
   "outputs": [],
   "source": [
    "# If we want to count how many times CS361 was used in the string, we can use findall()\n",
    "\n",
    "re.findall(\"CS361\",text)\n",
    "\n"
   ]
  },
  {
   "cell_type": "code",
   "execution_count": null,
   "metadata": {},
   "outputs": [],
   "source": [
    "#Complex patterns\n",
    "# The regex specification standard defines a markup language to describe patterns in text. Let's start with anchors.\n",
    "# Anchors specify the start and/or the end of the string that you're trying to match. \n",
    "# The caret character ^ means start and the dollar symbol $ means end. \n",
    "# If you put ^ in the start of the text, it means the regex processor must retrieve with the starting string\n",
    "# you are trying to specify. For ending, you have to put $ after the string, specifying the regex\n",
    "# must end with the string.\n",
    "\n",
    "# Example\n",
    "text = \"Amy is diligent. Amy gets good grades. Our student amy is successful\"\n",
    "\n",
    "re.search(\"^Amy\",text)"
   ]
  },
  {
   "cell_type": "code",
   "execution_count": null,
   "metadata": {},
   "outputs": [],
   "source": [
    "#Notice that re.search() actually returned to us a new object, called re.Match object. An re.Match object always has a boolean value of True, as something was found, so you can always evaluate it in an if statement as we did earlier. Ther rendering of the match object also tells you what pattern was matched, in this cas Amy. and the location the match was in as the span.\n"
   ]
  },
  {
   "source": [
    "# Patterns and Character Classes"
   ],
   "cell_type": "markdown",
   "metadata": {}
  },
  {
   "cell_type": "code",
   "execution_count": null,
   "metadata": {},
   "outputs": [],
   "source": [
    "# example\n",
    "\n",
    "grades = \"ABCAAAAAABCAACDBB\"\n",
    "\n",
    "# If we want to count how many \"B's\" in the grade\n",
    "re.findall(\"B\",grades)"
   ]
  },
  {
   "cell_type": "code",
   "execution_count": null,
   "metadata": {},
   "outputs": [],
   "source": [
    "# If we wanted to count the number of A's or B's in the list, we can't use \"AB\" since this is used to match A followed by B. Instead we put the characters A and B inside a square brackets.\n",
    "\n",
    "re.findall(\"[AB]\", grades)"
   ]
  },
  {
   "cell_type": "code",
   "execution_count": null,
   "metadata": {},
   "outputs": [],
   "source": [
    "# To include a range of characters which are alphanumerically\n",
    "# For instance, if we want to refer to all lower case letters we would use [a-z].\n",
    "\n",
    "re.findall(\"[A][B-C]\",grades)"
   ]
  },
  {
   "cell_type": "code",
   "execution_count": null,
   "metadata": {},
   "outputs": [],
   "source": [
    "# We can also write this by using pipe operator, which means OR\n",
    "re.findall(\"AB|AC\",grades)"
   ]
  },
  {
   "cell_type": "code",
   "execution_count": null,
   "metadata": {},
   "outputs": [],
   "source": [
    "# We can use the caret with the set operator to negate our results. For instance, if we want to parse out only the grades which were not A's\n",
    "re.findall(\"[^A]\",grades)"
   ]
  },
  {
   "cell_type": "code",
   "execution_count": null,
   "metadata": {},
   "outputs": [],
   "source": [
    "re.findall(\"^[^A]\",grades)\n",
    "\n",
    "# Is an empty list, because regex says that we want to match any value at the beginning of the string which is not an A. Our string though starts with an A, so there is no match found"
   ]
  },
  {
   "source": [
    "# Quantifiers"
   ],
   "cell_type": "markdown",
   "metadata": {}
  },
  {
   "cell_type": "code",
   "execution_count": null,
   "metadata": {},
   "outputs": [],
   "source": [
    "# Quantifiers are the number of times you want a pattern to be matched in order to match. The most basic quantifiers is expressed as e{m, n} where e is the expression or character we are matching , m is the minimum number of times you want it to matched, and n is the number of times the item could be matched\n",
    "\n",
    "re.findall(\"A{2,10}\",grades) # min is 2 and 10 is max"
   ]
  },
  {
   "cell_type": "code",
   "execution_count": null,
   "metadata": {},
   "outputs": [],
   "source": [
    "# We can also try and do this by using single values and just repeating patterns\n",
    "\n",
    "re.findall(\"A{1,1}A{1,1}\",grades)"
   ]
  },
  {
   "cell_type": "code",
   "execution_count": null,
   "metadata": {},
   "outputs": [],
   "source": [
    "# It's important to note that the regex quantifier syntax does not allow you to deviate from the {m,n} pattern. In particular, if you have an extra space in between the braces you'll get an empty result.\n",
    "\n",
    "re.findall(\"A{1, 2}\",grades)"
   ]
  },
  {
   "cell_type": "code",
   "execution_count": null,
   "metadata": {},
   "outputs": [],
   "source": [
    "# And if we don't include a quantifier, the default is {1,1}\n",
    "re.findall(\"AA\",grades)"
   ]
  },
  {
   "cell_type": "code",
   "execution_count": null,
   "metadata": {},
   "outputs": [],
   "source": [
    "# And if there is only one number inside the quantifier, it's considered to be both m and n\n",
    "\n",
    "re.findall(\"A{2}\",grades)"
   ]
  },
  {
   "cell_type": "code",
   "execution_count": null,
   "metadata": {},
   "outputs": [],
   "source": [
    "# Using this we could find a decreasing trend in a student's grades\n",
    "\n",
    "re.findall(\"A{1,10}B{1,10}C{1,10}\",grades)"
   ]
  },
  {
   "cell_type": "code",
   "execution_count": null,
   "metadata": {},
   "outputs": [],
   "source": [
    "# There are three other quantifiers that are used as short hand\n",
    "# an asterix * to match 0 or more times\n",
    "# a question mark ? to match 1 or more times\n",
    "# A + sign to match one or more times\n",
    "\n",
    "with open(\"txt/ferpa.txt\", \"r\") as file:\n",
    "    # we'll read that into a variable called wiki\n",
    "    wiki = file.read()\n",
    "wiki"
   ]
  },
  {
   "cell_type": "code",
   "execution_count": null,
   "metadata": {},
   "outputs": [],
   "source": [
    "# Scanning through this document, we notice that headers have all the words [edit] behind them, followed be newline character. To get all a list of all the headers in this file we could use re.findall\n",
    "\n",
    "re.findall(\"[a-zA-Z]{1,100}\\[edit\\]\", wiki)"
   ]
  },
  {
   "cell_type": "code",
   "execution_count": null,
   "metadata": {},
   "outputs": [],
   "source": [
    "# This method is quite clunky. Let's improve this by using \\w\n",
    "# \\w is a metacharacter and indicates a special pattern of any letter or digit \n",
    "\n",
    "re.findall(\"[\\w]{1,100}\\[edit\\]\",wiki)"
   ]
  },
  {
   "cell_type": "code",
   "execution_count": null,
   "metadata": {},
   "outputs": [],
   "source": [
    "# There are actually a number of different metacharacters listed in the documentation. For instance, \\s matches any whitespace character\n",
    "# Using quantifiers to shorten up the regex we can use,\n",
    "\n",
    "re.findall(\"[\\w]*\\[edit\\]\", wiki)"
   ]
  },
  {
   "cell_type": "code",
   "execution_count": null,
   "metadata": {},
   "outputs": [],
   "source": [
    "# Improve by adding space\n",
    "\n",
    "re.findall(\"[\\w ]*\\[edit\\]\",wiki)"
   ]
  },
  {
   "cell_type": "code",
   "execution_count": null,
   "metadata": {},
   "outputs": [],
   "source": [
    "# So this gets us the list of a section titles in wikipedia pages. We can now create a list of titles by iterating\n",
    "\n",
    "for title in re.findall(\"[\\w ]*\\[edit\\]\",wiki):\n",
    "    print(re.split(\"[\\[]\",title)[0])"
   ]
  },
  {
   "source": [
    "# Groups"
   ],
   "cell_type": "markdown",
   "metadata": {}
  },
  {
   "cell_type": "code",
   "execution_count": null,
   "metadata": {},
   "outputs": [],
   "source": [
    "# This works, but a little bit of pain. We can actually matched different patterns at the same time called groups. To group patterns together we use parenthesis.\n",
    "\n",
    "re.findall(\"([\\w ]*)(\\[edit\\])\",wiki)"
   ]
  },
  {
   "cell_type": "code",
   "execution_count": null,
   "metadata": {},
   "outputs": [],
   "source": [
    "# We can actually refer groups by number as well with the match objects that are returned. But, how we get a list of match objects?\n",
    "# we use the finditer()\n",
    "\n",
    "for item in re.finditer(\"([\\w ]*)(\\[edit\\])\",wiki):\n",
    "    print(item.groups())"
   ]
  },
  {
   "cell_type": "code",
   "execution_count": null,
   "metadata": {},
   "outputs": [],
   "source": [
    "# We see here that the groups() function returns a tuple of group. We can get an individual group using group(number), where group(0) is the whole match, and each number is the portion of the match we are interested in. \n",
    "\n",
    "for item in re.finditer(\"([\\w ]*)(\\[edit\\])\",wiki):\n",
    "    print(item.group(1)) # group(0) will print the whole match, group(1) will print the first index and so on"
   ]
  },
  {
   "cell_type": "code",
   "execution_count": null,
   "metadata": {},
   "outputs": [],
   "source": [
    "# We can also put matches in dictionary format. For that we use the syntax (?P<name>), where ?P indicates that this is an extension to basic regexes, and <name> is the dictionary key we want to use wrapped in <>\n",
    "\n",
    "for item in re.finditer(\"(?P<Title>[\\w ]*)(?P<edit_Link>\\[edit\\])\",wiki):\n",
    "    print(item.groupdict()['Title'])\n",
    "print(item.groupdict())"
   ]
  },
  {
   "source": [
    "# Look-Ahead and Look-Behind"
   ],
   "cell_type": "markdown",
   "metadata": {}
  },
  {
   "cell_type": "code",
   "execution_count": null,
   "metadata": {},
   "outputs": [],
   "source": [
    "# The pattern being given to the regex engine is for text either before or after the text we are trying to isolate.\n",
    "# The syntax is ?=\n",
    "\n",
    "for item in re.finditer(\"(?P<title>[\\w ]+)(?=\\[edit\\])\",wiki):\n",
    "    print(item)"
   ]
  },
  {
   "source": [
    "# Example Wikipedia Data"
   ],
   "cell_type": "markdown",
   "metadata": {}
  },
  {
   "cell_type": "code",
   "execution_count": null,
   "metadata": {},
   "outputs": [],
   "source": [
    "# Data on universities in the US which are buddhist based\n",
    "with open(\"txt/buddhist.txt\",\"r\",encoding=\"utf-8\", errors='ignore') as file:\n",
    "    wiki = file.read()\n",
    "wiki"
   ]
  },
  {
   "cell_type": "code",
   "execution_count": null,
   "metadata": {},
   "outputs": [],
   "source": [
    "# We can see that each universities follows a fairly similar pattern, with the name followed by an -- then the words \"located in\" followed by the city and state\n",
    "\n",
    "# We can use the verbose mode of python regexes. Verbose mode allows us to write multi-line regexes and increases readbility. For this mode, we have explicitly indicate all whitespace characters, either by prepending them with a \\ or by using the \\s special value. However, this means we can write our regex a bit more like code and can even include comments. \n",
    "\n",
    "# \"\"\"\" three quoted means we can write codes in multiple lines\n",
    "\n",
    "pattern=\"\"\"\n",
    "(?P<title>.*)      #The University title key\n",
    "(--\\ located\\ in\\ ) #an indicator of the location\n",
    "(?P<city>\\w*)      #City the university is in\n",
    "(.\\ )              #separator for the state\n",
    "(?P<state>\\w*)     #the state the city is located in\"\"\"\n",
    "\n",
    "#Now when we call finditer() we just pass the re.verbose flag as a parameter, this makes it much easier to understand large regexes\n",
    "\n",
    "for item in re.finditer(pattern,wiki,re.VERBOSE):\n",
    "    print(item.groupdict())"
   ]
  },
  {
   "source": [
    "# New York Times and Hashtags"
   ],
   "cell_type": "markdown",
   "metadata": {}
  },
  {
   "cell_type": "code",
   "execution_count": null,
   "metadata": {},
   "outputs": [],
   "source": [
    "with open(\"txt/nytimeshealth.txt\",\"r\", encoding=\"utf-8\") as file:\n",
    "    health = file.read()\n",
    "health"
   ]
  },
  {
   "cell_type": "code",
   "execution_count": null,
   "metadata": {},
   "outputs": [],
   "source": [
    "# So lets create a pattern. We want to include the hash sign first, then any number of alphanumeric characters. And end with some whitespace is found\n",
    "\n",
    "pattern = '#[\\w\\d]*(?=\\s)'\n",
    "re.findall(pattern,health)"
   ]
  },
  {
   "cell_type": "code",
   "execution_count": null,
   "metadata": {},
   "outputs": [],
   "source": []
  },
  {
   "cell_type": "code",
   "execution_count": 79,
   "metadata": {},
   "outputs": [
    {
     "output_type": "error",
     "ename": "NameError",
     "evalue": "name 'a' is not defined",
     "traceback": [
      "\u001b[1;31m---------------------------------------------------------------------------\u001b[0m",
      "\u001b[1;31mNameError\u001b[0m                                 Traceback (most recent call last)",
      "\u001b[1;32m<ipython-input-79-0a01480752c4>\u001b[0m in \u001b[0;36m<module>\u001b[1;34m\u001b[0m\n\u001b[0;32m      3\u001b[0m     \u001b[0mresult\u001b[0m \u001b[1;33m=\u001b[0m \u001b[0mresult\u001b[0m \u001b[1;33m**\u001b[0m \u001b[1;36m0.5\u001b[0m\u001b[1;33m\u001b[0m\u001b[1;33m\u001b[0m\u001b[0m\n\u001b[0;32m      4\u001b[0m     \u001b[1;32mreturn\u001b[0m \u001b[0mresult\u001b[0m\u001b[1;33m\u001b[0m\u001b[1;33m\u001b[0m\u001b[0m\n\u001b[1;32m----> 5\u001b[1;33m \u001b[0ml2_dist\u001b[0m\u001b[1;33m(\u001b[0m\u001b[0mnp\u001b[0m\u001b[1;33m.\u001b[0m\u001b[0mreshape\u001b[0m\u001b[1;33m(\u001b[0m\u001b[0ma\u001b[0m\u001b[1;33m,\u001b[0m\u001b[1;33m(\u001b[0m\u001b[1;36m20\u001b[0m\u001b[1;33m*\u001b[0m\u001b[1;36m20\u001b[0m\u001b[1;33m)\u001b[0m\u001b[1;33m)\u001b[0m\u001b[1;33m,\u001b[0m \u001b[0mnp\u001b[0m\u001b[1;33m.\u001b[0m\u001b[0mreshape\u001b[0m\u001b[1;33m(\u001b[0m\u001b[0mb\u001b[0m\u001b[1;33m,\u001b[0m\u001b[1;33m(\u001b[0m\u001b[1;36m20\u001b[0m\u001b[1;33m*\u001b[0m\u001b[1;36m20\u001b[0m\u001b[1;33m,\u001b[0m\u001b[1;36m1\u001b[0m\u001b[1;33m)\u001b[0m\u001b[1;33m)\u001b[0m\u001b[1;33m)\u001b[0m\u001b[1;33m\u001b[0m\u001b[1;33m\u001b[0m\u001b[0m\n\u001b[0m",
      "\u001b[1;31mNameError\u001b[0m: name 'a' is not defined"
     ]
    }
   ],
   "source": [
    "def l2_dist(a, b):\n",
    "    result  = ((a-b)*(a-b)).sum()\n",
    "    result = result ** 0.5\n",
    "    return result\n",
    "l2_dist(np.reshape(a,(20*20)), np.reshape(b,(20*20,1)))"
   ]
  },
  {
   "cell_type": "code",
   "execution_count": null,
   "metadata": {},
   "outputs": [],
   "source": []
  }
 ]
}