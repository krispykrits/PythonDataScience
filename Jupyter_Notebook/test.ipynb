{
 "metadata": {
  "language_info": {
   "codemirror_mode": {
    "name": "ipython",
    "version": 3
   },
   "file_extension": ".py",
   "mimetype": "text/x-python",
   "name": "python",
   "nbconvert_exporter": "python",
   "pygments_lexer": "ipython3",
   "version": "3.9.5"
  },
  "orig_nbformat": 4,
  "kernelspec": {
   "name": "python3",
   "display_name": "Python 3.9.5 64-bit (windows store)"
  },
  "interpreter": {
   "hash": "5038e2a29891e2f6607a77391b92a300aeb01a0774b237f09770fc4a61edec80"
  }
 },
 "nbformat": 4,
 "nbformat_minor": 2,
 "cells": [
  {
   "source": [
    "<h1 style=\"color:Tan\">Question 1</h1>"
   ],
   "cell_type": "markdown",
   "metadata": {}
  },
  {
   "source": [
    "Write a function called proportion_of_education which returns the proportion of children in the dataset who had a mother with the education levels equal to less than high school (<12), high school (12), more than high school but not a college graduate (>12) and college degree.\n",
    "\n",
    "This function should return a dictionary in the form of (use the correct numbers, do not round numbers):\n",
    "\n",
    "    {\"less than high school\":0.2,\n",
    "    \"high school\":0.4,\n",
    "    \"more than high school but not college\":0.2,\n",
    "    \"college\":0.2}"
   ],
   "cell_type": "markdown",
   "metadata": {}
  },
  {
   "source": [
    "<h2 style=\"color:Tan\">First Solution</h2>"
   ],
   "cell_type": "markdown",
   "metadata": {}
  },
  {
   "cell_type": "code",
   "execution_count": 34,
   "metadata": {},
   "outputs": [],
   "source": [
    "import pandas as pd\n",
    "import numpy as np\n",
    "\n",
    "df = pd.read_csv('hwFiles/NISPUF17.csv',index_col=0)\n"
   ]
  },
  {
   "cell_type": "code",
   "execution_count": 37,
   "metadata": {},
   "outputs": [],
   "source": [
    "def proportion_of_education():\n",
    "    cat=pd.value_counts(df['EDUC1']) # counts unique values 1, 2, 3, 4, ...\n",
    "    total=sum(cat) # sums all the unique values\n",
    "    a_dict=dict(cat) # create a dictionary\n",
    "    s=pd.Series(a_dict) # convert the dictionary into a series \n",
    "    f=lambda x: x/total # lambda function is used to calculate proportion for all categories\n",
    "    s=s.apply(f) # apply accross all categories\n",
    "    s_dict=dict(s)\n",
    "    s_dict['less than high school'] = s_dict.pop(1)\n",
    "    s_dict['high school'] = s_dict.pop(2)\n",
    "    s_dict['more than high school but not college'] = s_dict.pop(3)\n",
    "    s_dict['college'] = s_dict.pop(4)\n",
    "    return s_dict\n",
    "\n",
    "    raise NotImplementedError()"
   ]
  },
  {
   "cell_type": "code",
   "execution_count": 43,
   "metadata": {},
   "outputs": [
    {
     "output_type": "execute_result",
     "data": {
      "text/plain": [
       "{'less than high school': 0.10202002459160373,\n",
       " 'high school': 0.172352011241876,\n",
       " 'more than high school but not college': 0.24588090637625154,\n",
       " 'college': 0.47974705779026877}"
      ]
     },
     "metadata": {},
     "execution_count": 43
    }
   ],
   "source": [
    "proportion_of_education()"
   ]
  },
  {
   "cell_type": "code",
   "execution_count": 40,
   "metadata": {},
   "outputs": [],
   "source": [
    "assert type(proportion_of_education())==type({}), \"You must return a dictionary.\"\n",
    "assert len(proportion_of_education()) == 4, \"You have not returned a dictionary with four items in it.\"\n",
    "assert \"less than high school\" in proportion_of_education().keys(), \"You have not returned a dictionary with the correct keys.\"\n",
    "assert \"high school\" in proportion_of_education().keys(), \"You have not returned a dictionary with the correct keys.\"\n",
    "assert \"more than high school but not college\" in proportion_of_education().keys(), \"You have not returned a dictionary with the correct keys.\"\n",
    "assert \"college\" in proportion_of_education().keys(), \"You have not returned a dictionary with the correct keys.\""
   ]
  },
  {
   "source": [
    "<h2 style=\"color:Tan\">Second Solution</h2>"
   ],
   "cell_type": "markdown",
   "metadata": {}
  },
  {
   "cell_type": "code",
   "execution_count": 46,
   "metadata": {},
   "outputs": [],
   "source": [
    "import pandas as pd\n",
    "import numpy as np\n",
    "\n",
    "def proportion_of_education():\n",
    "    # read the file\n",
    "    df = pd.read_csv('hwFiles/NISPUF17.csv')\n",
    "    \n",
    "    #count the unique values of each\n",
    "    num_of_less_than_highschool = df['EDUC1'].value_counts()[1]\n",
    "    num_of_highschool = df['EDUC1'].value_counts()[2]\n",
    "    num_of_not_a_college_graduate = df['EDUC1'].value_counts()[3]\n",
    "    num_of_college_graduate = df['EDUC1'].value_counts()[4]\n",
    "    \n",
    "    # total length of the column EDUC1\n",
    "    total_num = len(df['EDUC1'])\n",
    "    \n",
    "    # modify the values by calculating the proportion of parents level of education\n",
    "    proportion = {\"less than high school\":(num_of_less_than_highschool/total_num),\n",
    "    \"high school\":(num_of_highschool/total_num),\n",
    "    \"more than high school but not college\":(num_of_not_a_college_graduate/total_num),\n",
    "    \"college\":(num_of_college_graduate/total_num)}\n",
    "    \n",
    "    return proportion\n",
    "    raise NotImplementedError()"
   ]
  },
  {
   "cell_type": "code",
   "execution_count": 47,
   "metadata": {},
   "outputs": [
    {
     "output_type": "execute_result",
     "data": {
      "text/plain": [
       "{'less than high school': 0.10202002459160373,\n",
       " 'high school': 0.172352011241876,\n",
       " 'more than high school but not college': 0.24588090637625154,\n",
       " 'college': 0.47974705779026877}"
      ]
     },
     "metadata": {},
     "execution_count": 47
    }
   ],
   "source": [
    "proportion_of_education()"
   ]
  },
  {
   "cell_type": "code",
   "execution_count": 48,
   "metadata": {},
   "outputs": [],
   "source": [
    "assert type(proportion_of_education())==type({}), \"You must return a dictionary.\"\n",
    "assert len(proportion_of_education()) == 4, \"You have not returned a dictionary with four items in it.\"\n",
    "assert \"less than high school\" in proportion_of_education().keys(), \"You have not returned a dictionary with the correct keys.\"\n",
    "assert \"high school\" in proportion_of_education().keys(), \"You have not returned a dictionary with the correct keys.\"\n",
    "assert \"more than high school but not college\" in proportion_of_education().keys(), \"You have not returned a dictionary with the correct keys.\"\n",
    "assert \"college\" in proportion_of_education().keys(), \"You have not returned a dictionary with the correct keys.\""
   ]
  },
  {
   "source": [
    "<h1 style=\"color:Tan\">Question 2</h1>"
   ],
   "cell_type": "markdown",
   "metadata": {}
  },
  {
   "source": [
    "Let's explore the relationship between being fed breastmilk as a child and getting a seasonal influenza vaccine from a healthcare provider. Return a tuple of the average number of influenza vaccines for those children we know received breastmilk as a child and those who know did not.\n",
    "\n",
    "This function should return a tuple in the form (use the correct numbers:\n",
    "\n",
    "`(2.5, 0.1)`"
   ],
   "cell_type": "markdown",
   "metadata": {}
  },
  {
   "source": [
    "<h2 style=\"color:Tan\"> First Solution</h2>"
   ],
   "cell_type": "markdown",
   "metadata": {}
  },
  {
   "cell_type": "code",
   "execution_count": null,
   "metadata": {},
   "outputs": [],
   "source": [
    "# Read csv file\n",
    "# get the column for breasmilk as a child and seasonal influenza\n",
    "# get the rows for the fed breastmilk that is equal to the target\n",
    "# then get the rows of NUMFLU for yes breastmilk and no breastmilk\n",
    "# get the average of each\n",
    "# store in tuple"
   ]
  },
  {
   "cell_type": "code",
   "execution_count": 57,
   "metadata": {},
   "outputs": [],
   "source": [
    "import pandas as pd\n",
    "import numpy as np\n",
    "def average_influenza_doses():\n",
    "    df = pd.read_csv('hwFiles/NISPUF17.csv', index_col=0)\n",
    "    cbf_flu = df[['CBF_01','P_NUMFLU']]\n",
    "\n",
    "    #copy the rows that is equal to the desired with column CBF_01 and target and also drop NaN values\n",
    "    cbf_YFLu = cbf_flu[cbf_flu['CBF_01'] == 1].dropna()\n",
    "    cbf_NFLu = cbf_flu[cbf_flu['CBF_01'] == 2].dropna()\n",
    "\n",
    "    #copy the P_NUMFLU column then get the average\n",
    "    flu1 = cbf_YFLu['P_NUMFLU']\n",
    "    f1 = flu1.sum()/flu1.size\n",
    "\n",
    "    flu2 = cbf_NFLu['P_NUMFLU']\n",
    "    f2 = flu2.sum()/flu2.size\n",
    "\n",
    "    return(f1,f2)\n",
    "\n",
    "    raise NotImplementedError()"
   ]
  },
  {
   "cell_type": "code",
   "execution_count": 58,
   "metadata": {},
   "outputs": [
    {
     "output_type": "execute_result",
     "data": {
      "text/plain": [
       "(1.8799187420058687, 1.5963945918878317)"
      ]
     },
     "metadata": {},
     "execution_count": 58
    }
   ],
   "source": [
    "average_influenza_doses()"
   ]
  },
  {
   "source": [
    "<h2 style=\"color:Tan\"> Second Solution</h2>"
   ],
   "cell_type": "markdown",
   "metadata": {}
  },
  {
   "cell_type": "code",
   "execution_count": 59,
   "metadata": {},
   "outputs": [],
   "source": [
    "import pandas as pd\n",
    "import numpy as np\n",
    "def average_influenza_doses():\n",
    "    df = pd.read_csv('hwFiles/NISPUF17.csv', index_col=0)\n",
    "    cbf_flu = df[['CBF_01','P_NUMFLU']]\n",
    "\n",
    "    cbf_YFLu = cbf_flu[cbf_flu['CBF_01'] == 1].dropna()\n",
    "    avg_BF = cbf_YFLu['P_NUMFLU'].mean()\n",
    "    \n",
    "    cbf_NFLu = cbf_flu[cbf_flu['CBF_01'] == 2].dropna()\n",
    "    avg_NBF = cbf_NFLu['P_NUMFLU'].mean()\n",
    "\n",
    "    tup = (avg_BF,avg_NBF)\n",
    "    return tup\n",
    "    raise NotImplementedError()"
   ]
  },
  {
   "source": [],
   "cell_type": "markdown",
   "metadata": {}
  },
  {
   "cell_type": "code",
   "execution_count": 60,
   "metadata": {},
   "outputs": [
    {
     "output_type": "execute_result",
     "data": {
      "text/plain": [
       "(1.8799187420058687, 1.5963945918878317)"
      ]
     },
     "metadata": {},
     "execution_count": 60
    }
   ],
   "source": [
    "average_influenza_doses()"
   ]
  },
  {
   "source": [
    "<h1 style=\"color:Tan\">Question 3</h1>"
   ],
   "cell_type": "markdown",
   "metadata": {}
  },
  {
   "source": [
    "=> [SEX] -> sex=1 (male); sex=2 (female)\n",
    "\n",
    "=> [HAD_COP] -> contracted chicken pox = 1; not contracted chicken pox = 2\n",
    "\n",
    "=> [P_NUMVRC] >=1 -> given one or more doses"
   ],
   "cell_type": "markdown",
   "metadata": {}
  },
  {
   "source": [
    "<h2 style=\"color:Tan\">Solution 1</h2>"
   ],
   "cell_type": "markdown",
   "metadata": {}
  },
  {
   "cell_type": "code",
   "execution_count": 67,
   "metadata": {},
   "outputs": [],
   "source": [
    "import pandas as pd\n",
    "import numpy as np\n",
    "\n",
    "df = pd.read_csv('hwFiles/NISPUF17.csv',index_col=0)\n",
    "\n",
    "def chickenpox_by_sex():\n",
    "    male = df[df['SEX'] == 1]\n",
    "    vaccinated_male = male[male['P_NUMVRC'] >= 1]\n",
    "    Contract_CP_M = vaccinated_male[vaccinated_male['HAD_CPOX'] == 1]\n",
    "    count_CPM = Contract_CP_M['SEX'].count()\n",
    "    Not_CP_M = vaccinated_male[vaccinated_male['HAD_CPOX'] == 2]\n",
    "    count_NOTM = Not_CP_M['SEX'].count()\n",
    "    male_avg = count_CPM/count_NOTM\n",
    "\n",
    "    female = df[df['SEX'] == 2]\n",
    "    vaccinated_female = female[female['P_NUMVRC'] >= 1]\n",
    "    Contract_CP_F = vaccinated_female[vaccinated_female['HAD_CPOX'] == 1]\n",
    "    count_CPF = Contract_CP_F['SEX'].count()\n",
    "    Not_CP_F = vaccinated_female[vaccinated_female['HAD_CPOX'] == 2]\n",
    "    count_NOTF = Not_CP_F['SEX'].count()\n",
    "    female_avg = count_CPF/count_NOTF\n",
    "\n",
    "    ratio_dict = {'male': male_avg, 'female': female_avg}\n",
    "    return ratio_dict\n",
    "\n",
    "    raise NotImplementedError()\n"
   ]
  },
  {
   "cell_type": "code",
   "execution_count": 68,
   "metadata": {},
   "outputs": [
    {
     "output_type": "execute_result",
     "data": {
      "text/plain": [
       "{'male': 0.009675583380762664, 'female': 0.0077918259335489565}"
      ]
     },
     "metadata": {},
     "execution_count": 68
    }
   ],
   "source": [
    "chickenpox_by_sex()"
   ]
  },
  {
   "cell_type": "code",
   "execution_count": 69,
   "metadata": {},
   "outputs": [],
   "source": [
    "assert len(chickenpox_by_sex())==2, \"Return a dictionary with two items, the first for males and the second for females.\""
   ]
  },
  {
   "source": [
    "<h2 style=\"color:Tan\">Solution 2</h2>"
   ],
   "cell_type": "markdown",
   "metadata": {}
  },
  {
   "cell_type": "code",
   "execution_count": 75,
   "metadata": {},
   "outputs": [],
   "source": [
    "import pandas as pd\n",
    "import numpy as np\n",
    "\n",
    "# This solution did not pass all the tests\n",
    "def chickenpox_by_sex():\n",
    "    df = pd.read_csv('hwFiles/NISPUF17.csv',index_col=0)\n",
    "    CBS = {'male':0,'female':0}\n",
    "\n",
    "\n",
    "    chkpx_sex = df[df['P_NUMVRC'].gt(0) & df['HAD_CPOX'].lt(3)].loc[:,['HAD_CPOX','SEX']]\n",
    "\n",
    "    chkpx_male = len(chkpx_sex[(chkpx_sex['HAD_CPOX']==1) & (chkpx_sex['SEX'] == 1)])\n",
    "\n",
    "    chkpx_female = len(chkpx_sex[(chkpx_sex['HAD_CPOX']==1) & (chkpx_sex['SEX'] == 2)])\n",
    "\n",
    "    Nchkpx_male = len(chkpx_sex[(chkpx_sex['HAD_CPOX']==2) & (chkpx_sex['SEX'] == 1)])\n",
    "\n",
    "    Nchkpx_female = len(chkpx_sex[(chkpx_sex['HAD_CPOX']==2) & (chkpx_sex['SEX'] == 2)])\n",
    "\n",
    "    CBS['male'] = chkpx_male/Nchkpx_male\n",
    "    CBS['female'] = chkpx_female/Nchkpx_female\n",
    "\n",
    "    return CBS\n",
    "    raise NotImplementedError()"
   ]
  },
  {
   "cell_type": "code",
   "execution_count": 76,
   "metadata": {},
   "outputs": [
    {
     "output_type": "execute_result",
     "data": {
      "text/plain": [
       "{'male': 0.009675583380762664, 'female': 0.0077918259335489565}"
      ]
     },
     "metadata": {},
     "execution_count": 76
    }
   ],
   "source": [
    "chickenpox_by_sex()"
   ]
  },
  {
   "cell_type": "code",
   "execution_count": 77,
   "metadata": {},
   "outputs": [],
   "source": [
    "assert len(chickenpox_by_sex())==2, \"Return a dictionary with two items, the first for males and the second for females.\""
   ]
  },
  {
   "source": [
    "<h1 style=\" color: Tan\"> Question 4</h1>"
   ],
   "cell_type": "markdown",
   "metadata": {}
  },
  {
   "cell_type": "code",
   "execution_count": 79,
   "metadata": {},
   "outputs": [],
   "source": [
    "def corr_chickenpox():\n",
    "    import scipy.stats as stats\n",
    "    import numpy as np\n",
    "    import pandas as pd\n",
    "   \n",
    "    # this is just an example dataframe\n",
    "    # df=pd.DataFrame({\"had_chickenpox_column\":np.random.randint(1,3,size=(100)),\n",
    "    #             \"num_chickenpox_vaccine_column\":np.random.randint(0,6,size=(100))})\n",
    "    df = pd.read_csv(\"hwFiles/NISPUF17.csv\", index_col=0)\n",
    "\n",
    "    df=df[df['HAD_CPOX'].lt(3)].loc[:,['HAD_CPOX','P_NUMVRC']].dropna()\n",
    "    df.columns=['had_chickenpox_column','num_chickenpox_vaccine_column']\n",
    "    # here is some stub code to actually run the correlation\n",
    "    corr, pval=stats.pearsonr(df[\"had_chickenpox_column\"],df[\"num_chickenpox_vaccine_column\"])\n",
    "   \n",
    "    # just return the correlation\n",
    "    return corr"
   ]
  },
  {
   "cell_type": "code",
   "execution_count": 80,
   "metadata": {},
   "outputs": [
    {
     "output_type": "error",
     "ename": "ModuleNotFoundError",
     "evalue": "No module named 'scipy'",
     "traceback": [
      "\u001b[1;31m---------------------------------------------------------------------------\u001b[0m",
      "\u001b[1;31mModuleNotFoundError\u001b[0m                       Traceback (most recent call last)",
      "\u001b[1;32m<ipython-input-80-f385c4a594cf>\u001b[0m in \u001b[0;36m<module>\u001b[1;34m\u001b[0m\n\u001b[1;32m----> 1\u001b[1;33m \u001b[0mcorr_chickenpox\u001b[0m\u001b[1;33m(\u001b[0m\u001b[1;33m)\u001b[0m\u001b[1;33m\u001b[0m\u001b[1;33m\u001b[0m\u001b[0m\n\u001b[0m",
      "\u001b[1;32m<ipython-input-79-6efa9a9516e3>\u001b[0m in \u001b[0;36mcorr_chickenpox\u001b[1;34m()\u001b[0m\n\u001b[0;32m      1\u001b[0m \u001b[1;32mdef\u001b[0m \u001b[0mcorr_chickenpox\u001b[0m\u001b[1;33m(\u001b[0m\u001b[1;33m)\u001b[0m\u001b[1;33m:\u001b[0m\u001b[1;33m\u001b[0m\u001b[1;33m\u001b[0m\u001b[0m\n\u001b[1;32m----> 2\u001b[1;33m     \u001b[1;32mimport\u001b[0m \u001b[0mscipy\u001b[0m\u001b[1;33m.\u001b[0m\u001b[0mstats\u001b[0m \u001b[1;32mas\u001b[0m \u001b[0mstats\u001b[0m\u001b[1;33m\u001b[0m\u001b[1;33m\u001b[0m\u001b[0m\n\u001b[0m\u001b[0;32m      3\u001b[0m     \u001b[1;32mimport\u001b[0m \u001b[0mnumpy\u001b[0m \u001b[1;32mas\u001b[0m \u001b[0mnp\u001b[0m\u001b[1;33m\u001b[0m\u001b[1;33m\u001b[0m\u001b[0m\n\u001b[0;32m      4\u001b[0m     \u001b[1;32mimport\u001b[0m \u001b[0mpandas\u001b[0m \u001b[1;32mas\u001b[0m \u001b[0mpd\u001b[0m\u001b[1;33m\u001b[0m\u001b[1;33m\u001b[0m\u001b[0m\n\u001b[0;32m      5\u001b[0m \u001b[1;33m\u001b[0m\u001b[0m\n",
      "\u001b[1;31mModuleNotFoundError\u001b[0m: No module named 'scipy'"
     ]
    }
   ],
   "source": [
    "corr_chickenpox()"
   ]
  },
  {
   "cell_type": "code",
   "execution_count": null,
   "metadata": {},
   "outputs": [],
   "source": []
  }
 ]
}