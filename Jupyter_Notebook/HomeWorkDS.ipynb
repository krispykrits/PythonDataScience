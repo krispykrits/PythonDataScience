{
 "metadata": {
  "language_info": {
   "codemirror_mode": {
    "name": "ipython",
    "version": 3
   },
   "file_extension": ".py",
   "mimetype": "text/x-python",
   "name": "python",
   "nbconvert_exporter": "python",
   "pygments_lexer": "ipython3",
   "version": "3.9.5"
  },
  "orig_nbformat": 4,
  "kernelspec": {
   "name": "python3",
   "display_name": "Python 3.9.5 64-bit (windows store)"
  },
  "interpreter": {
   "hash": "5038e2a29891e2f6607a77391b92a300aeb01a0774b237f09770fc4a61edec80"
  }
 },
 "nbformat": 4,
 "nbformat_minor": 2,
 "cells": [
  {
   "source": [
    "# WEEK 1"
   ],
   "cell_type": "markdown",
   "metadata": {}
  },
  {
   "source": [
    "## Part A"
   ],
   "cell_type": "markdown",
   "metadata": {}
  },
  {
   "cell_type": "code",
   "execution_count": 7,
   "metadata": {},
   "outputs": [
    {
     "output_type": "stream",
     "name": "stdout",
     "text": [
      "['Amy', 'Mary', 'Ruth', 'Peter']\n4\n"
     ]
    }
   ],
   "source": [
    "\n",
    "\n",
    "import re\n",
    "\n",
    "def names():\n",
    "    simple_string = \"\"\"Amy is 5 years old, and her sister Mary is 2 years old. \n",
    "    Ruth and Peter, their parents, have 3 kids.\"\"\"\n",
    "    pattern = \"([A-Z][a-z]*)\"\n",
    "    result = re.findall(pattern,simple_string)\n",
    "    return result\n",
    "    raise NotImplementedError()\n",
    "\n",
    "print(names())\n",
    "print(len(names()))"
   ]
  },
  {
   "cell_type": "code",
   "execution_count": 5,
   "metadata": {},
   "outputs": [],
   "source": [
    "assert len(names()) == 4"
   ]
  },
  {
   "source": [
    "## Part B\n",
    "Create a regex to generate a list of just those students who received a B in the course."
   ],
   "cell_type": "markdown",
   "metadata": {}
  },
  {
   "cell_type": "code",
   "execution_count": 45,
   "metadata": {},
   "outputs": [],
   "source": [
    "\n",
    "def grades():\n",
    "    with open (\"hwFiles/grades.txt\", \"r\") as file:\n",
    "        grades = file.read()\n",
    "        pattern = '(\\w.+)(?=:\\s[B])'            #any one or more characters except new line that follows a pattern :\\s B\n",
    "        B_students = re.findall(pattern,grades)\n",
    "    return B_students\n",
    "    raise NotImplementedError()"
   ]
  },
  {
   "cell_type": "code",
   "execution_count": 47,
   "metadata": {},
   "outputs": [
    {
     "output_type": "stream",
     "name": "stdout",
     "text": [
      "['Bell Kassulke', 'Simon Loidl', 'Elias Jovanovic', 'Hakim Botros', 'Emilie Lorentsen', 'Jake Wood', 'Fatemeh Akhtar', 'Kim Weston', 'Yasmin Dar', 'Viswamitra Upandhye', 'Killian Kaufman', 'Elwood Page', 'Elodie Booker', 'Adnan Chen', 'Hank Spinka', 'Hannah Bayer']\n16\n"
     ]
    }
   ],
   "source": [
    "print(grades())\n",
    "assert len(grades()) == 16\n",
    "print(len(grades()))"
   ]
  },
  {
   "source": [
    "## Part C\n",
    "This file records the access a user makes when visiting a web page (like this one!). Each line of the log has the following items:\n",
    "* a host (e.g., '146.204.224.152')\n",
    "* a user_name (e.g., 'feest6811' note: sometimes the user name is missing! In this case, use '-' as the value for the username.)\n",
    "* the time a request was made (e.g., '21/Jun/2019:15:45:24 -0700')\n",
    "* the post request type (e.g., 'POST /incentivize HTTP/1.1' note: not everything is a POST!)"
   ],
   "cell_type": "markdown",
   "metadata": {}
  },
  {
   "cell_type": "code",
   "execution_count": 49,
   "metadata": {},
   "outputs": [],
   "source": [
    "regex = re.compile(\n",
    "    # ?: match expression but do not capture any number one or more 3 times followed by dot and then add another patter.        \\s+ one or more whitespace. \n",
    "    r'(?P<host>(?:\\d+\\.){3}\\d+)\\s+'\n",
    "    r'(?:\\S+)\\s+'\n",
    "    r'(?P<user_name>\\S+)\\s+'\n",
    "    # -+ is for the timezone. :/ is for the date and time\n",
    "    r'\\[(?P<time>[-+\\w\\s:/]+)\\]\\s+'\n",
    "    r'\"(?P<request>.+?.+?)\"'\n",
    ")\n",
    "\n",
    "def logs():\n",
    "    mydata = []\n",
    "    with open(\"hwFiles/logdata.txt\", \"r\") as file:\n",
    "        logdata = file.read()\n",
    "    for item in regex.finditer(logdata):\n",
    "            mydata.append(item.groupdict())\n",
    "    return mydata\n",
    "    raise NotImplementedError()"
   ]
  },
  {
   "cell_type": "code",
   "execution_count": 50,
   "metadata": {
    "tags": [
     "outputPrepend"
    ]
   },
   "outputs": [
    {
     "output_type": "stream",
     "name": "stdout",
     "text": [
      "tionalities/b2b HTTP/1.1'}, {'host': '247.66.231.101', 'user_name': 'schroeder6056', 'time': '21/Jun/2019:15:59:44 -0700', 'request': 'PATCH /viral/global/e-markets/synergistic HTTP/1.0'}, {'host': '49.218.35.102', 'user_name': '-', 'time': '21/Jun/2019:15:59:45 -0700', 'request': 'PATCH /reinvent/holistic HTTP/1.0'}, {'host': '187.151.112.252', 'user_name': 'cronin9150', 'time': '21/Jun/2019:15:59:46 -0700', 'request': 'POST /holistic/plug-and-play HTTP/1.1'}, {'host': '56.134.159.6', 'user_name': '-', 'time': '21/Jun/2019:15:59:47 -0700', 'request': 'POST /turn-key/distributed HTTP/1.0'}, {'host': '184.49.40.239', 'user_name': 'cronin7061', 'time': '21/Jun/2019:15:59:48 -0700', 'request': 'POST /turn-key/maximize/vertical/harness HTTP/1.1'}, {'host': '205.214.141.88', 'user_name': '-', 'time': '21/Jun/2019:15:59:49 -0700', 'request': 'PUT /vertical/models/b2c HTTP/1.0'}, {'host': '161.40.136.30', 'user_name': 'hackett2278', 'time': '21/Jun/2019:15:59:50 -0700', 'request': 'HEAD /bandwidth/syndicate/extend HTTP/2.0'}, {'host': '129.163.228.209', 'user_name': '-', 'time': '21/Jun/2019:15:59:51 -0700', 'request': 'DELETE /envisioneer/portals/sexy HTTP/2.0'}, {'host': '90.219.89.134', 'user_name': '-', 'time': '21/Jun/2019:15:59:52 -0700', 'request': 'HEAD /sticky/initiatives/brand/bleeding-edge HTTP/1.1'}, {'host': '73.245.186.113', 'user_name': 'johnston8800', 'time': '21/Jun/2019:15:59:53 -0700', 'request': 'HEAD /technologies/monetize/visualize HTTP/1.1'}, {'host': '11.9.180.195', 'user_name': '-', 'time': '21/Jun/2019:15:59:54 -0700', 'request': 'HEAD /methodologies/mindshare/e-business HTTP/1.1'}, {'host': '251.66.234.159', 'user_name': 'casper4259', 'time': '21/Jun/2019:15:59:55 -0700', 'request': 'PATCH /envisioneer/web+services/e-tailers HTTP/1.1'}, {'host': '58.216.217.213', 'user_name': '-', 'time': '21/Jun/2019:15:59:56 -0700', 'request': 'PUT /technologies/mesh/disintermediate/visualize HTTP/1.0'}, {'host': '144.154.200.29', 'user_name': '-', 'time': '21/Jun/2019:15:59:57 -0700', 'request': 'HEAD /seamless/seamless/synergies HTTP/1.0'}, {'host': '69.168.5.186', 'user_name': 'hudson3060', 'time': '21/Jun/2019:15:59:58 -0700', 'request': 'GET /seamless/applications HTTP/1.1'}, {'host': '178.51.230.221', 'user_name': 'beer4262', 'time': '21/Jun/2019:15:59:59 -0700', 'request': 'PUT /portals HTTP/1.0'}, {'host': '17.32.23.78', 'user_name': '-', 'time': '21/Jun/2019:16:00:00 -0700', 'request': 'POST /engineer/visionary/mesh/empower HTTP/2.0'}, {'host': '202.254.80.9', 'user_name': '-', 'time': '21/Jun/2019:16:00:01 -0700', 'request': 'PUT /e-services/frictionless/web-readiness HTTP/1.1'}, {'host': '167.14.84.150', 'user_name': 'corkery7009', 'time': '21/Jun/2019:16:00:02 -0700', 'request': 'PATCH /cross-platform/engage HTTP/2.0'}, {'host': '108.73.111.91', 'user_name': 'rolfson4266', 'time': '21/Jun/2019:16:00:03 -0700', 'request': 'POST /sexy/relationships/envisioneer HTTP/1.1'}, {'host': '255.34.248.138', 'user_name': 'lehner7598', 'time': '21/Jun/2019:16:00:04 -0700', 'request': 'PUT /visionary/exploit/strategize HTTP/1.1'}, {'host': '175.248.234.53', 'user_name': 'connelly6139', 'time': '21/Jun/2019:16:00:05 -0700', 'request': 'GET /end-to-end/initiatives HTTP/1.0'}, {'host': '54.182.101.16', 'user_name': '-', 'time': '21/Jun/2019:16:00:06 -0700', 'request': 'DELETE /schemas HTTP/2.0'}, {'host': '197.102.163.140', 'user_name': '-', 'time': '21/Jun/2019:16:00:07 -0700', 'request': 'HEAD /incentivize/impactful/world-class HTTP/1.0'}, {'host': '114.121.4.5', 'user_name': 'dickinson1321', 'time': '21/Jun/2019:16:00:08 -0700', 'request': 'HEAD /ubiquitous/strategic/innovative HTTP/2.0'}, {'host': '75.128.148.229', 'user_name': '-', 'time': '21/Jun/2019:16:00:09 -0700', 'request': 'GET /leverage/deliverables/aggregate/supply-chains HTTP/1.0'}, {'host': '87.120.190.31', 'user_name': 'mraz2398', 'time': '21/Jun/2019:16:00:10 -0700', 'request': 'PUT /incentivize/deliver/frictionless HTTP/1.0'}, {'host': '123.55.15.237', 'user_name': 'stracke7667', 'time': '21/Jun/2019:16:00:11 -0700', 'request': 'POST /bricks-and-clicks/wireless/iterate HTTP/2.0'}, {'host': '76.179.226.223', 'user_name': 'gleichner8645', 'time': '21/Jun/2019:16:00:12 -0700', 'request': 'PATCH /incubate/enhance/enhance/plug-and-play HTTP/1.1'}, {'host': '18.251.182.128', 'user_name': 'huels1658', 'time': '21/Jun/2019:16:00:13 -0700', 'request': 'PATCH /benchmark/seize/end-to-end HTTP/1.0'}, {'host': '130.4.238.6', 'user_name': 'thompson4128', 'time': '21/Jun/2019:16:00:14 -0700', 'request': 'PUT /whiteboard HTTP/1.1'}, {'host': '30.235.201.100', 'user_name': 'labadie1675', 'time': '21/Jun/2019:16:00:15 -0700', 'request': 'HEAD /sexy/seamless/channels HTTP/1.0'}, {'host': '172.200.189.116', 'user_name': 'moen2257', 'time': '21/Jun/2019:16:00:16 -0700', 'request': 'PUT /visionary HTTP/2.0'}, {'host': '129.243.225.31', 'user_name': 'gerlach4189', 'time': '21/Jun/2019:16:00:17 -0700', 'request': 'HEAD /turn-key/enhance/deploy HTTP/1.1'}, {'host': '234.151.43.108', 'user_name': 'gutkowski1749', 'time': '21/Jun/2019:16:00:18 -0700', 'request': 'POST /experiences/cultivate/communities HTTP/2.0'}, {'host': '128.230.157.15', 'user_name': 'koch1729', 'time': '21/Jun/2019:16:00:19 -0700', 'request': 'POST /revolutionize HTTP/1.1'}, {'host': '70.128.242.203', 'user_name': '-', 'time': '21/Jun/2019:16:00:20 -0700', 'request': 'POST /dot-com/efficient/e-tailers HTTP/1.1'}, {'host': '153.118.103.28', 'user_name': '-', 'time': '21/Jun/2019:16:00:21 -0700', 'request': 'POST /action-items/seize/whiteboard HTTP/1.1'}, {'host': '147.89.158.20', 'user_name': 'sawayn3251', 'time': '21/Jun/2019:16:00:22 -0700', 'request': 'PUT /clicks-and-mortar/b2c/e-enable HTTP/1.1'}, {'host': '144.30.162.29', 'user_name': '-', 'time': '21/Jun/2019:16:00:23 -0700', 'request': 'GET /next-generation/magnetic/paradigms HTTP/2.0'}, {'host': '98.221.131.91', 'user_name': 'heaney8725', 'time': '21/Jun/2019:16:00:24 -0700', 'request': 'POST /seamless/scale HTTP/1.0'}, {'host': '116.135.195.23', 'user_name': '-', 'time': '21/Jun/2019:16:00:25 -0700', 'request': 'HEAD /deliverables HTTP/1.0'}, {'host': '178.205.28.42', 'user_name': 'koss1578', 'time': '21/Jun/2019:16:00:26 -0700', 'request': 'DELETE /convergence HTTP/2.0'}, {'host': '193.150.28.242', 'user_name': '-', 'time': '21/Jun/2019:16:00:27 -0700', 'request': 'DELETE /best-of-breed HTTP/1.0'}, {'host': '85.65.192.87', 'user_name': '-', 'time': '21/Jun/2019:16:00:28 -0700', 'request': 'DELETE /platforms HTTP/1.0'}, {'host': '80.172.108.88', 'user_name': '-', 'time': '21/Jun/2019:16:00:29 -0700', 'request': 'PATCH /recontextualize/aggregate/front-end HTTP/2.0'}, {'host': '116.144.162.173', 'user_name': '-', 'time': '21/Jun/2019:16:00:30 -0700', 'request': 'POST /sticky HTTP/2.0'}, {'host': '203.6.73.103', 'user_name': 'kerluke4964', 'time': '21/Jun/2019:16:00:31 -0700', 'request': 'DELETE /collaborative/magnetic HTTP/1.1'}, {'host': '30.200.244.157', 'user_name': 'zieme4477', 'time': '21/Jun/2019:16:00:32 -0700', 'request': 'HEAD /virtual/sticky/leading-edge/reintermediate HTTP/2.0'}, {'host': '217.77.132.36', 'user_name': '-', 'time': '21/Jun/2019:16:00:33 -0700', 'request': 'DELETE /real-time/seamless/visualize/sexy HTTP/2.0'}, {'host': '168.91.121.134', 'user_name': '-', 'time': '21/Jun/2019:16:00:34 -0700', 'request': 'GET /metrics/bleeding-edge HTTP/1.1'}, {'host': '104.242.54.162', 'user_name': 'weber7878', 'time': '21/Jun/2019:16:00:35 -0700', 'request': 'HEAD /dynamic/models/productize HTTP/1.0'}, {'host': '210.119.75.247', 'user_name': 'lemke8387', 'time': '21/Jun/2019:16:00:36 -0700', 'request': 'PATCH /partnerships/deploy/impactful/infomediaries HTTP/1.1'}, {'host': '189.164.49.80', 'user_name': '-', 'time': '21/Jun/2019:16:00:37 -0700', 'request': 'DELETE /viral/incentivize/web-readiness HTTP/1.1'}, {'host': '151.70.203.139', 'user_name': 'reinger7161', 'time': '21/Jun/2019:16:00:38 -0700', 'request': 'DELETE /strategic/repurpose/infrastructures HTTP/2.0'}, {'host': '100.200.147.71', 'user_name': '-', 'time': '21/Jun/2019:16:00:39 -0700', 'request': 'DELETE /incubate HTTP/2.0'}, {'host': '146.50.234.201', 'user_name': 'glover8440', 'time': '21/Jun/2019:16:00:40 -0700', 'request': 'PUT /partnerships/networks/frictionless HTTP/1.0'}, {'host': '195.58.191.112', 'user_name': 'boyer8373', 'time': '21/Jun/2019:16:00:41 -0700', 'request': 'DELETE /integrate HTTP/2.0'}, {'host': '82.181.220.184', 'user_name': '-', 'time': '21/Jun/2019:16:00:42 -0700', 'request': 'DELETE /deliverables/24%2f365/exploit/24%2f365 HTTP/1.0'}, {'host': '24.7.110.141', 'user_name': 'hilpert8913', 'time': '21/Jun/2019:16:00:43 -0700', 'request': 'GET /syndicate/bleeding-edge/implement/24%2f365 HTTP/1.0'}, {'host': '167.254.190.8', 'user_name': '-', 'time': '21/Jun/2019:16:00:44 -0700', 'request': 'GET /extensible/solutions/efficient HTTP/1.0'}, {'host': '219.107.204.228', 'user_name': '-', 'time': '21/Jun/2019:16:00:45 -0700', 'request': 'HEAD /networks/aggregate/monetize/iterate HTTP/1.1'}, {'host': '189.49.24.146', 'user_name': 'wunsch1258', 'time': '21/Jun/2019:16:00:46 -0700', 'request': 'GET /users/extend/expedite/channels HTTP/1.1'}, {'host': '145.65.159.31', 'user_name': '-', 'time': '21/Jun/2019:16:00:47 -0700', 'request': 'DELETE /granular/bleeding-edge/innovate/incubate HTTP/2.0'}, {'host': '137.216.228.137', 'user_name': '-', 'time': '21/Jun/2019:16:00:48 -0700', 'request': 'DELETE /efficient HTTP/1.0'}, {'host': '186.190.140.96', 'user_name': '-', 'time': '21/Jun/2019:16:00:49 -0700', 'request': 'PUT /infomediaries/orchestrate/cultivate/monetize HTTP/1.1'}, {'host': '148.191.73.128', 'user_name': '-', 'time': '21/Jun/2019:16:00:50 -0700', 'request': 'PUT /schemas HTTP/2.0'}, {'host': '59.66.248.21', 'user_name': 'kutch7667', 'time': '21/Jun/2019:16:00:51 -0700', 'request': 'GET /expedite/turn-key/exploit HTTP/1.1'}, {'host': '23.120.229.182', 'user_name': '-', 'time': '21/Jun/2019:16:00:52 -0700', 'request': 'HEAD /utilize/synergistic/transition HTTP/1.0'}, {'host': '218.91.27.210', 'user_name': 'turcotte8545', 'time': '21/Jun/2019:16:00:53 -0700', 'request': 'POST /redefine HTTP/1.0'}, {'host': '235.76.221.72', 'user_name': '-', 'time': '21/Jun/2019:16:00:54 -0700', 'request': 'PATCH /b2c/collaborative HTTP/2.0'}, {'host': '176.54.168.8', 'user_name': '-', 'time': '21/Jun/2019:16:00:55 -0700', 'request': 'PATCH /orchestrate/redefine/platforms/generate HTTP/1.0'}, {'host': '250.183.230.208', 'user_name': '-', 'time': '21/Jun/2019:16:00:56 -0700', 'request': 'DELETE /seamless/iterate HTTP/1.1'}, {'host': '100.95.44.151', 'user_name': '-', 'time': '21/Jun/2019:16:00:57 -0700', 'request': 'PATCH /synergize/bricks-and-clicks/maximize/extend HTTP/1.0'}, {'host': '246.51.6.27', 'user_name': '-', 'time': '21/Jun/2019:16:00:58 -0700', 'request': 'HEAD /e-business/applications HTTP/1.1'}, {'host': '107.152.217.102', 'user_name': '-', 'time': '21/Jun/2019:16:00:59 -0700', 'request': 'PATCH /solutions/cultivate HTTP/1.0'}, {'host': '122.194.3.144', 'user_name': '-', 'time': '21/Jun/2019:16:01:00 -0700', 'request': 'DELETE /cutting-edge/grow/target HTTP/1.0'}, {'host': '91.39.192.43', 'user_name': 'thompson4010', 'time': '21/Jun/2019:16:01:01 -0700', 'request': 'PATCH /e-tailers HTTP/1.0'}, {'host': '248.24.178.242', 'user_name': '-', 'time': '21/Jun/2019:16:01:02 -0700', 'request': 'HEAD /recontextualize/transparent/engineer HTTP/1.0'}, {'host': '251.28.161.44', 'user_name': '-', 'time': '21/Jun/2019:16:01:03 -0700', 'request': 'HEAD /cross-media/aggregate/optimize/next-generation HTTP/1.0'}, {'host': '94.99.199.30', 'user_name': '-', 'time': '21/Jun/2019:16:01:04 -0700', 'request': 'HEAD /extend/target/sexy/iterate HTTP/2.0'}, {'host': '197.150.196.204', 'user_name': 'thiel4558', 'time': '21/Jun/2019:16:01:05 -0700', 'request': 'PATCH /compelling HTTP/2.0'}, {'host': '199.10.120.170', 'user_name': 'murazik3963', 'time': '21/Jun/2019:16:01:06 -0700', 'request': 'DELETE /frictionless/magnetic/e-markets/visionary HTTP/1.0'}, {'host': '21.65.184.146', 'user_name': 'lockman2593', 'time': '21/Jun/2019:16:01:07 -0700', 'request': 'DELETE /sexy HTTP/1.1'}, {'host': '36.191.173.200', 'user_name': 'metz3511', 'time': '21/Jun/2019:16:01:08 -0700', 'request': 'POST /revolutionary/seamless/disintermediate/generate HTTP/1.0'}, {'host': '47.131.136.173', 'user_name': '-', 'time': '21/Jun/2019:16:01:09 -0700', 'request': 'PATCH /global/whiteboard/architect HTTP/1.0'}, {'host': '219.163.127.189', 'user_name': '-', 'time': '21/Jun/2019:16:01:10 -0700', 'request': 'POST /sticky/efficient HTTP/1.0'}, {'host': '95.253.30.75', 'user_name': 'herzog9094', 'time': '21/Jun/2019:16:01:11 -0700', 'request': 'POST /mindshare HTTP/1.1'}, {'host': '89.146.38.96', 'user_name': '-', 'time': '21/Jun/2019:16:01:12 -0700', 'request': 'POST /partnerships/drive HTTP/1.0'}, {'host': '149.70.38.192', 'user_name': 'gorczany7585', 'time': '21/Jun/2019:16:01:13 -0700', 'request': 'POST /real-time/utilize/relationships/leverage HTTP/1.0'}, {'host': '109.208.102.251', 'user_name': 'schroeder2270', 'time': '21/Jun/2019:16:01:14 -0700', 'request': 'DELETE /leverage HTTP/2.0'}, {'host': '236.59.161.14', 'user_name': '-', 'time': '21/Jun/2019:16:01:15 -0700', 'request': 'GET /sexy/b2c/e-business HTTP/1.1'}, {'host': '233.40.58.83', 'user_name': '-', 'time': '21/Jun/2019:16:01:16 -0700', 'request': 'GET /impactful HTTP/2.0'}, {'host': '204.236.10.235', 'user_name': 'rodriguez5244', 'time': '21/Jun/2019:16:01:17 -0700', 'request': 'GET /synergies/expedite/deploy HTTP/1.0'}, {'host': '158.49.98.6', 'user_name': 'breitenberg4724', 'time': '21/Jun/2019:16:01:18 -0700', 'request': 'DELETE /global/channels/relationships HTTP/1.1'}, {'host': '52.90.48.138', 'user_name': '-', 'time': '21/Jun/2019:16:01:19 -0700', 'request': 'DELETE /brand/architect/distributed/unleash HTTP/1.1'}, {'host': '131.137.166.85', 'user_name': '-', 'time': '21/Jun/2019:16:01:20 -0700', 'request': 'HEAD /evolve/deploy/extensible/harness HTTP/2.0'}, {'host': '156.192.201.86', 'user_name': 'connelly5114', 'time': '21/Jun/2019:16:01:21 -0700', 'request': 'PATCH /whiteboard/optimize HTTP/2.0'}, {'host': '189.85.107.237', 'user_name': '-', 'time': '21/Jun/2019:16:01:22 -0700', 'request': 'GET /cross-platform/e-markets/b2b/exploit HTTP/1.1'}, {'host': '214.115.87.186', 'user_name': 'gorczany2750', 'time': '21/Jun/2019:16:01:23 -0700', 'request': 'GET /plug-and-play/productize/deliverables HTTP/1.1'}, {'host': '98.220.2.44', 'user_name': '-', 'time': '21/Jun/2019:16:01:24 -0700', 'request': 'HEAD /mission-critical HTTP/1.1'}, {'host': '173.31.138.234', 'user_name': '-', 'time': '21/Jun/2019:16:01:25 -0700', 'request': 'DELETE /models HTTP/1.1'}, {'host': '69.218.146.39', 'user_name': 'kohler8056', 'time': '21/Jun/2019:16:01:26 -0700', 'request': 'HEAD /systems HTTP/1.0'}, {'host': '71.86.213.196', 'user_name': '-', 'time': '21/Jun/2019:16:01:27 -0700', 'request': 'DELETE /convergence/best-of-breed/platforms HTTP/1.0'}, {'host': '70.68.196.179', 'user_name': 'cartwright5970', 'time': '21/Jun/2019:16:01:28 -0700', 'request': 'POST /b2c/cross-media HTTP/1.0'}, {'host': '126.63.247.146', 'user_name': 'leuschke4130', 'time': '21/Jun/2019:16:01:29 -0700', 'request': 'GET /collaborative HTTP/2.0'}, {'host': '132.117.183.187', 'user_name': '-', 'time': '21/Jun/2019:16:01:30 -0700', 'request': 'HEAD /synthesize/bandwidth/harness HTTP/2.0'}, {'host': '196.88.105.189', 'user_name': 'lynch1110', 'time': '21/Jun/2019:16:01:31 -0700', 'request': 'POST /convergence/web-enabled/turn-key HTTP/1.1'}, {'host': '173.100.77.100', 'user_name': 'goodwin1310', 'time': '21/Jun/2019:16:01:32 -0700', 'request': 'HEAD /integrate/visualize/implement/infomediaries HTTP/1.0'}, {'host': '17.106.152.183', 'user_name': 'thiel8831', 'time': '21/Jun/2019:16:01:33 -0700', 'request': 'POST /architect/supply-chains/rich/cultivate HTTP/1.0'}, {'host': '93.67.196.131', 'user_name': '-', 'time': '21/Jun/2019:16:01:34 -0700', 'request': 'PUT /generate/infrastructures HTTP/1.1'}, {'host': '229.231.201.185', 'user_name': '-', 'time': '21/Jun/2019:16:01:35 -0700', 'request': 'HEAD /supply-chains/brand/strategic HTTP/1.1'}, {'host': '193.252.191.251', 'user_name': 'roob3235', 'time': '21/Jun/2019:16:01:36 -0700', 'request': 'POST /extensible HTTP/1.1'}, {'host': '93.57.150.237', 'user_name': '-', 'time': '21/Jun/2019:16:01:37 -0700', 'request': 'HEAD /real-time HTTP/2.0'}, {'host': '22.112.119.27', 'user_name': '-', 'time': '21/Jun/2019:16:01:38 -0700', 'request': 'PUT /roi/collaborative HTTP/1.1'}, {'host': '205.98.120.209', 'user_name': 'trantow6874', 'time': '21/Jun/2019:16:01:39 -0700', 'request': 'PUT /front-end/world-class/partnerships/schemas HTTP/1.0'}, {'host': '148.196.48.243', 'user_name': 'ondricka6863', 'time': '21/Jun/2019:16:01:40 -0700', 'request': 'GET /best-of-breed/reinvent HTTP/1.1'}, {'host': '130.229.174.187', 'user_name': 'hackett3055', 'time': '21/Jun/2019:16:01:41 -0700', 'request': 'GET /sticky/deliver HTTP/2.0'}, {'host': '115.27.231.250', 'user_name': '-', 'time': '21/Jun/2019:16:01:42 -0700', 'request': 'PUT /drive/sexy/e-markets/brand HTTP/1.0'}, {'host': '188.30.88.134', 'user_name': '-', 'time': '21/Jun/2019:16:01:43 -0700', 'request': 'PUT /end-to-end/architectures/convergence HTTP/1.1'}, {'host': '105.162.151.140', 'user_name': 'herzog1680', 'time': '21/Jun/2019:16:01:44 -0700', 'request': 'POST /24%2f365/next-generation HTTP/1.1'}, {'host': '64.14.181.183', 'user_name': 'gleichner2813', 'time': '21/Jun/2019:16:01:45 -0700', 'request': 'GET /innovate/mesh HTTP/2.0'}, {'host': '183.150.10.151', 'user_name': 'hammes8029', 'time': '21/Jun/2019:16:01:46 -0700', 'request': 'HEAD /clicks-and-mortar HTTP/1.0'}, {'host': '137.138.99.222', 'user_name': 'doyle8430', 'time': '21/Jun/2019:16:01:47 -0700', 'request': 'DELETE /e-commerce/brand/extend/innovative HTTP/2.0'}, {'host': '31.191.115.136', 'user_name': 'parker1133', 'time': '21/Jun/2019:16:01:48 -0700', 'request': 'PATCH /visualize/clicks-and-mortar/facilitate HTTP/1.0'}, {'host': '32.163.208.9', 'user_name': '-', 'time': '21/Jun/2019:16:01:49 -0700', 'request': 'POST /strategic/dynamic HTTP/1.0'}, {'host': '147.114.137.55', 'user_name': '-', 'time': '21/Jun/2019:16:01:50 -0700', 'request': 'POST /brand/frictionless/markets/incentivize HTTP/1.0'}, {'host': '24.29.142.39', 'user_name': 'koelpin1900', 'time': '21/Jun/2019:16:01:51 -0700', 'request': 'DELETE /monetize/user-centric HTTP/1.1'}, {'host': '56.36.101.14', 'user_name': 'davis6497', 'time': '21/Jun/2019:16:01:52 -0700', 'request': 'GET /cutting-edge/matrix/productize/web+services HTTP/1.1'}, {'host': '98.140.180.244', 'user_name': 'harber4797', 'time': '21/Jun/2019:16:01:53 -0700', 'request': 'POST /seize/b2b/synergistic HTTP/2.0'}, {'host': '54.92.231.149', 'user_name': 'ziemann5634', 'time': '21/Jun/2019:16:01:54 -0700', 'request': 'GET /revolutionize/matrix HTTP/2.0'}, {'host': '96.250.132.151', 'user_name': '-', 'time': '21/Jun/2019:16:01:55 -0700', 'request': 'HEAD /users/revolutionize HTTP/1.1'}, {'host': '29.193.55.212', 'user_name': '-', 'time': '21/Jun/2019:16:01:56 -0700', 'request': 'DELETE /strategic/e-tailers/scalable HTTP/1.0'}, {'host': '255.61.55.129', 'user_name': '-', 'time': '21/Jun/2019:16:01:57 -0700', 'request': 'DELETE /applications/infomediaries/reinvent/cultivate HTTP/1.0'}, {'host': '135.186.69.192', 'user_name': '-', 'time': '21/Jun/2019:16:01:58 -0700', 'request': 'PATCH /best-of-breed HTTP/1.1'}, {'host': '32.86.3.51', 'user_name': '-', 'time': '21/Jun/2019:16:01:59 -0700', 'request': 'GET /optimize/impactful/sexy/channels HTTP/2.0'}, {'host': '176.68.62.252', 'user_name': 'turner3261', 'time': '21/Jun/2019:16:02:00 -0700', 'request': 'GET /viral HTTP/1.1'}, {'host': '35.86.149.61', 'user_name': 'zemlak6334', 'time': '21/Jun/2019:16:02:01 -0700', 'request': 'HEAD /incentivize HTTP/2.0'}, {'host': '30.95.91.251', 'user_name': 'larson8319', 'time': '21/Jun/2019:16:02:02 -0700', 'request': 'PUT /one-to-one/whiteboard HTTP/1.0'}]\n"
     ]
    }
   ],
   "source": [
    "print(logs())"
   ]
  },
  {
   "cell_type": "code",
   "execution_count": 51,
   "metadata": {},
   "outputs": [],
   "source": [
    "assert len(logs()) == 979"
   ]
  },
  {
   "cell_type": "code",
   "execution_count": 48,
   "metadata": {},
   "outputs": [
    {
     "output_type": "stream",
     "name": "stdout",
     "text": [
      "979\n"
     ]
    }
   ],
   "source": [
    "print(len(logs()))"
   ]
  },
  {
   "cell_type": "code",
   "execution_count": null,
   "metadata": {},
   "outputs": [],
   "source": []
  }
 ]
}