{
 "metadata": {
  "language_info": {
   "codemirror_mode": {
    "name": "ipython",
    "version": 3
   },
   "file_extension": ".py",
   "mimetype": "text/x-python",
   "name": "python",
   "nbconvert_exporter": "python",
   "pygments_lexer": "ipython3",
   "version": "3.9.5"
  },
  "orig_nbformat": 4,
  "kernelspec": {
   "name": "python3",
   "display_name": "Python 3.9.5 64-bit (windows store)"
  },
  "interpreter": {
   "hash": "5038e2a29891e2f6607a77391b92a300aeb01a0774b237f09770fc4a61edec80"
  }
 },
 "nbformat": 4,
 "nbformat_minor": 2,
 "cells": [
  {
   "source": [
    "<h1 style= \"font-family: Open Sans; color: MediumSpringGreen\">\n",
    "Examples with manipulating DataFrames\n",
    "</h1>"
   ],
   "cell_type": "markdown",
   "metadata": {}
  },
  {
   "source": [
    "<p style=\"font-family: Open Sans; color: Tan; font-size: 17px\">\n",
    "One last note on missing values. When you use statistical functions on DataFrames, these functions typically ignore missing values. For instance if you try and calculate the mean value of a DataFrame, the underlying NumPy function will ignore missing values. This is usually what you want but you should be aware that values are being excluded. Why you have missing values really matters depending upon the problem you are trying to solve. It might be unreasonable to infer missing values, for instance, if the data shouldn't exist in the first place.\n",
    "</p>"
   ],
   "cell_type": "markdown",
   "metadata": {}
  },
  {
   "cell_type": "code",
   "execution_count": 1,
   "metadata": {},
   "outputs": [
    {
     "output_type": "execute_result",
     "data": {
      "text/plain": [
       "   #          President             Born      Age atstart of presidency  \\\n",
       "0  1  George Washington  Feb 22, 1732[a]  57 years, 67 daysApr 30, 1789   \n",
       "1  2         John Adams  Oct 30, 1735[a]  61 years, 125 daysMar 4, 1797   \n",
       "2  3   Thomas Jefferson  Apr 13, 1743[a]  57 years, 325 daysMar 4, 1801   \n",
       "3  4      James Madison  Mar 16, 1751[a]  57 years, 353 daysMar 4, 1809   \n",
       "4  5       James Monroe     Apr 28, 1758  58 years, 310 daysMar 4, 1817   \n",
       "\n",
       "         Age atend of presidency Post-presidencytimespan          Died  \\\n",
       "0   65 years, 10 daysMar 4, 1797       2 years, 285 days  Dec 14, 1799   \n",
       "1  65 years, 125 daysMar 4, 1801      25 years, 122 days   Jul 4, 1826   \n",
       "2  65 years, 325 daysMar 4, 1809      17 years, 122 days   Jul 4, 1826   \n",
       "3  65 years, 353 daysMar 4, 1817      19 years, 116 days  Jun 28, 1836   \n",
       "4  66 years, 310 daysMar 4, 1825       6 years, 122 days   Jul 4, 1831   \n",
       "\n",
       "                  Age  \n",
       "0  67 years, 295 days  \n",
       "1  90 years, 247 days  \n",
       "2   83 years, 82 days  \n",
       "3  85 years, 104 days  \n",
       "4   73 years, 67 days  "
      ],
      "text/html": "<div>\n<style scoped>\n    .dataframe tbody tr th:only-of-type {\n        vertical-align: middle;\n    }\n\n    .dataframe tbody tr th {\n        vertical-align: top;\n    }\n\n    .dataframe thead th {\n        text-align: right;\n    }\n</style>\n<table border=\"1\" class=\"dataframe\">\n  <thead>\n    <tr style=\"text-align: right;\">\n      <th></th>\n      <th>#</th>\n      <th>President</th>\n      <th>Born</th>\n      <th>Age atstart of presidency</th>\n      <th>Age atend of presidency</th>\n      <th>Post-presidencytimespan</th>\n      <th>Died</th>\n      <th>Age</th>\n    </tr>\n  </thead>\n  <tbody>\n    <tr>\n      <th>0</th>\n      <td>1</td>\n      <td>George Washington</td>\n      <td>Feb 22, 1732[a]</td>\n      <td>57 years, 67 daysApr 30, 1789</td>\n      <td>65 years, 10 daysMar 4, 1797</td>\n      <td>2 years, 285 days</td>\n      <td>Dec 14, 1799</td>\n      <td>67 years, 295 days</td>\n    </tr>\n    <tr>\n      <th>1</th>\n      <td>2</td>\n      <td>John Adams</td>\n      <td>Oct 30, 1735[a]</td>\n      <td>61 years, 125 daysMar 4, 1797</td>\n      <td>65 years, 125 daysMar 4, 1801</td>\n      <td>25 years, 122 days</td>\n      <td>Jul 4, 1826</td>\n      <td>90 years, 247 days</td>\n    </tr>\n    <tr>\n      <th>2</th>\n      <td>3</td>\n      <td>Thomas Jefferson</td>\n      <td>Apr 13, 1743[a]</td>\n      <td>57 years, 325 daysMar 4, 1801</td>\n      <td>65 years, 325 daysMar 4, 1809</td>\n      <td>17 years, 122 days</td>\n      <td>Jul 4, 1826</td>\n      <td>83 years, 82 days</td>\n    </tr>\n    <tr>\n      <th>3</th>\n      <td>4</td>\n      <td>James Madison</td>\n      <td>Mar 16, 1751[a]</td>\n      <td>57 years, 353 daysMar 4, 1809</td>\n      <td>65 years, 353 daysMar 4, 1817</td>\n      <td>19 years, 116 days</td>\n      <td>Jun 28, 1836</td>\n      <td>85 years, 104 days</td>\n    </tr>\n    <tr>\n      <th>4</th>\n      <td>5</td>\n      <td>James Monroe</td>\n      <td>Apr 28, 1758</td>\n      <td>58 years, 310 daysMar 4, 1817</td>\n      <td>66 years, 310 daysMar 4, 1825</td>\n      <td>6 years, 122 days</td>\n      <td>Jul 4, 1831</td>\n      <td>73 years, 67 days</td>\n    </tr>\n  </tbody>\n</table>\n</div>"
     },
     "metadata": {},
     "execution_count": 1
    }
   ],
   "source": [
    "# Let's start by bringing in pandas\n",
    "import pandas as pd\n",
    "# And load our dataset. We're going to be cleaning the list of presidents in the US from wikipedia\n",
    "df=pd.read_csv(\"csv\\presidents.csv\")\n",
    "# And lets just take a look at some of the data\n",
    "df.head()"
   ]
  },
  {
   "cell_type": "code",
   "execution_count": 2,
   "metadata": {},
   "outputs": [
    {
     "output_type": "execute_result",
     "data": {
      "text/plain": [
       "   #          President             Born      Age atstart of presidency  \\\n",
       "0  1  George Washington  Feb 22, 1732[a]  57 years, 67 daysApr 30, 1789   \n",
       "1  2         John Adams  Oct 30, 1735[a]  61 years, 125 daysMar 4, 1797   \n",
       "2  3   Thomas Jefferson  Apr 13, 1743[a]  57 years, 325 daysMar 4, 1801   \n",
       "3  4      James Madison  Mar 16, 1751[a]  57 years, 353 daysMar 4, 1809   \n",
       "4  5       James Monroe     Apr 28, 1758  58 years, 310 daysMar 4, 1817   \n",
       "\n",
       "         Age atend of presidency Post-presidencytimespan          Died  \\\n",
       "0   65 years, 10 daysMar 4, 1797       2 years, 285 days  Dec 14, 1799   \n",
       "1  65 years, 125 daysMar 4, 1801      25 years, 122 days   Jul 4, 1826   \n",
       "2  65 years, 325 daysMar 4, 1809      17 years, 122 days   Jul 4, 1826   \n",
       "3  65 years, 353 daysMar 4, 1817      19 years, 116 days  Jun 28, 1836   \n",
       "4  66 years, 310 daysMar 4, 1825       6 years, 122 days   Jul 4, 1831   \n",
       "\n",
       "                  Age   First  \n",
       "0  67 years, 295 days  George  \n",
       "1  90 years, 247 days    John  \n",
       "2   83 years, 82 days  Thomas  \n",
       "3  85 years, 104 days   James  \n",
       "4   73 years, 67 days   James  "
      ],
      "text/html": "<div>\n<style scoped>\n    .dataframe tbody tr th:only-of-type {\n        vertical-align: middle;\n    }\n\n    .dataframe tbody tr th {\n        vertical-align: top;\n    }\n\n    .dataframe thead th {\n        text-align: right;\n    }\n</style>\n<table border=\"1\" class=\"dataframe\">\n  <thead>\n    <tr style=\"text-align: right;\">\n      <th></th>\n      <th>#</th>\n      <th>President</th>\n      <th>Born</th>\n      <th>Age atstart of presidency</th>\n      <th>Age atend of presidency</th>\n      <th>Post-presidencytimespan</th>\n      <th>Died</th>\n      <th>Age</th>\n      <th>First</th>\n    </tr>\n  </thead>\n  <tbody>\n    <tr>\n      <th>0</th>\n      <td>1</td>\n      <td>George Washington</td>\n      <td>Feb 22, 1732[a]</td>\n      <td>57 years, 67 daysApr 30, 1789</td>\n      <td>65 years, 10 daysMar 4, 1797</td>\n      <td>2 years, 285 days</td>\n      <td>Dec 14, 1799</td>\n      <td>67 years, 295 days</td>\n      <td>George</td>\n    </tr>\n    <tr>\n      <th>1</th>\n      <td>2</td>\n      <td>John Adams</td>\n      <td>Oct 30, 1735[a]</td>\n      <td>61 years, 125 daysMar 4, 1797</td>\n      <td>65 years, 125 daysMar 4, 1801</td>\n      <td>25 years, 122 days</td>\n      <td>Jul 4, 1826</td>\n      <td>90 years, 247 days</td>\n      <td>John</td>\n    </tr>\n    <tr>\n      <th>2</th>\n      <td>3</td>\n      <td>Thomas Jefferson</td>\n      <td>Apr 13, 1743[a]</td>\n      <td>57 years, 325 daysMar 4, 1801</td>\n      <td>65 years, 325 daysMar 4, 1809</td>\n      <td>17 years, 122 days</td>\n      <td>Jul 4, 1826</td>\n      <td>83 years, 82 days</td>\n      <td>Thomas</td>\n    </tr>\n    <tr>\n      <th>3</th>\n      <td>4</td>\n      <td>James Madison</td>\n      <td>Mar 16, 1751[a]</td>\n      <td>57 years, 353 daysMar 4, 1809</td>\n      <td>65 years, 353 daysMar 4, 1817</td>\n      <td>19 years, 116 days</td>\n      <td>Jun 28, 1836</td>\n      <td>85 years, 104 days</td>\n      <td>James</td>\n    </tr>\n    <tr>\n      <th>4</th>\n      <td>5</td>\n      <td>James Monroe</td>\n      <td>Apr 28, 1758</td>\n      <td>58 years, 310 daysMar 4, 1817</td>\n      <td>66 years, 310 daysMar 4, 1825</td>\n      <td>6 years, 122 days</td>\n      <td>Jul 4, 1831</td>\n      <td>73 years, 67 days</td>\n      <td>James</td>\n    </tr>\n  </tbody>\n</table>\n</div>"
     },
     "metadata": {},
     "execution_count": 2
    }
   ],
   "source": [
    "# Ok, we have some presidents, some dates, I see a bunch of footnotes in the \"Born\" column which might cause\n",
    "# issues. Let's start with cleaning up that name into firstname and lastname. I'm going to tackle this with\n",
    "# a regex. So I want to create two new columns and apply a regex to the projection of the \"President\" column.\n",
    "\n",
    "# Here's one solution, we could make a copy of the President column\n",
    "df[\"First\"]=df['President']\n",
    "# Then we can call replace() and just have a pattern that matches the last name and set it to an empty string\n",
    "df[\"First\"]=df[\"First\"].replace(\"[ ].*\", \"\", regex=True)\n",
    "# Now let's take a look\n",
    "df.head()"
   ]
  },
  {
   "cell_type": "code",
   "execution_count": 3,
   "metadata": {},
   "outputs": [
    {
     "output_type": "execute_result",
     "data": {
      "text/plain": [
       "   #          President             Born      Age atstart of presidency  \\\n",
       "0  1  George Washington  Feb 22, 1732[a]  57 years, 67 daysApr 30, 1789   \n",
       "1  2         John Adams  Oct 30, 1735[a]  61 years, 125 daysMar 4, 1797   \n",
       "2  3   Thomas Jefferson  Apr 13, 1743[a]  57 years, 325 daysMar 4, 1801   \n",
       "3  4      James Madison  Mar 16, 1751[a]  57 years, 353 daysMar 4, 1809   \n",
       "4  5       James Monroe     Apr 28, 1758  58 years, 310 daysMar 4, 1817   \n",
       "\n",
       "         Age atend of presidency Post-presidencytimespan          Died  \\\n",
       "0   65 years, 10 daysMar 4, 1797       2 years, 285 days  Dec 14, 1799   \n",
       "1  65 years, 125 daysMar 4, 1801      25 years, 122 days   Jul 4, 1826   \n",
       "2  65 years, 325 daysMar 4, 1809      17 years, 122 days   Jul 4, 1826   \n",
       "3  65 years, 353 daysMar 4, 1817      19 years, 116 days  Jun 28, 1836   \n",
       "4  66 years, 310 daysMar 4, 1825       6 years, 122 days   Jul 4, 1831   \n",
       "\n",
       "                  Age   First        Last  \n",
       "0  67 years, 295 days  George  Washington  \n",
       "1  90 years, 247 days    John       Adams  \n",
       "2   83 years, 82 days  Thomas   Jefferson  \n",
       "3  85 years, 104 days   James     Madison  \n",
       "4   73 years, 67 days   James      Monroe  "
      ],
      "text/html": "<div>\n<style scoped>\n    .dataframe tbody tr th:only-of-type {\n        vertical-align: middle;\n    }\n\n    .dataframe tbody tr th {\n        vertical-align: top;\n    }\n\n    .dataframe thead th {\n        text-align: right;\n    }\n</style>\n<table border=\"1\" class=\"dataframe\">\n  <thead>\n    <tr style=\"text-align: right;\">\n      <th></th>\n      <th>#</th>\n      <th>President</th>\n      <th>Born</th>\n      <th>Age atstart of presidency</th>\n      <th>Age atend of presidency</th>\n      <th>Post-presidencytimespan</th>\n      <th>Died</th>\n      <th>Age</th>\n      <th>First</th>\n      <th>Last</th>\n    </tr>\n  </thead>\n  <tbody>\n    <tr>\n      <th>0</th>\n      <td>1</td>\n      <td>George Washington</td>\n      <td>Feb 22, 1732[a]</td>\n      <td>57 years, 67 daysApr 30, 1789</td>\n      <td>65 years, 10 daysMar 4, 1797</td>\n      <td>2 years, 285 days</td>\n      <td>Dec 14, 1799</td>\n      <td>67 years, 295 days</td>\n      <td>George</td>\n      <td>Washington</td>\n    </tr>\n    <tr>\n      <th>1</th>\n      <td>2</td>\n      <td>John Adams</td>\n      <td>Oct 30, 1735[a]</td>\n      <td>61 years, 125 daysMar 4, 1797</td>\n      <td>65 years, 125 daysMar 4, 1801</td>\n      <td>25 years, 122 days</td>\n      <td>Jul 4, 1826</td>\n      <td>90 years, 247 days</td>\n      <td>John</td>\n      <td>Adams</td>\n    </tr>\n    <tr>\n      <th>2</th>\n      <td>3</td>\n      <td>Thomas Jefferson</td>\n      <td>Apr 13, 1743[a]</td>\n      <td>57 years, 325 daysMar 4, 1801</td>\n      <td>65 years, 325 daysMar 4, 1809</td>\n      <td>17 years, 122 days</td>\n      <td>Jul 4, 1826</td>\n      <td>83 years, 82 days</td>\n      <td>Thomas</td>\n      <td>Jefferson</td>\n    </tr>\n    <tr>\n      <th>3</th>\n      <td>4</td>\n      <td>James Madison</td>\n      <td>Mar 16, 1751[a]</td>\n      <td>57 years, 353 daysMar 4, 1809</td>\n      <td>65 years, 353 daysMar 4, 1817</td>\n      <td>19 years, 116 days</td>\n      <td>Jun 28, 1836</td>\n      <td>85 years, 104 days</td>\n      <td>James</td>\n      <td>Madison</td>\n    </tr>\n    <tr>\n      <th>4</th>\n      <td>5</td>\n      <td>James Monroe</td>\n      <td>Apr 28, 1758</td>\n      <td>58 years, 310 daysMar 4, 1817</td>\n      <td>66 years, 310 daysMar 4, 1825</td>\n      <td>6 years, 122 days</td>\n      <td>Jul 4, 1831</td>\n      <td>73 years, 67 days</td>\n      <td>James</td>\n      <td>Monroe</td>\n    </tr>\n  </tbody>\n</table>\n</div>"
     },
     "metadata": {},
     "execution_count": 3
    }
   ],
   "source": [
    "# That works, but it's kind of gross. And it's slow, since we had to make a full copy of a column then go\n",
    "# through and update strings. There are a few other ways we can deal with this. Let me show you the most \n",
    "# general one first, and that's called the apply() function. Let's drop the column we made first\n",
    "del(df[\"First\"])\n",
    "\n",
    "# The apply() function on a dataframe will take some arbitrary function you have written and apply it to\n",
    "# either a Series (a single column) or DataFrame across all rows or columns. Lets write a function which\n",
    "# just splits a string into two pieces using a single row of data\n",
    "def splitname(row):\n",
    "    # The row is a single Series object which is a single row indexed by column values\n",
    "    # Let's extract the firstname and create a new entry in the series\n",
    "    row['First']=row['President'].split(\" \")[0]\n",
    "    # Let's do the same with the last word in the string\n",
    "    row['Last']=row['President'].split(\" \")[-1]\n",
    "    # Now we just return the row and the pandas .apply() will take of merging them back into a DataFrame\n",
    "    return row\n",
    "\n",
    "# Now if we apply this to the dataframe indicating we want to apply it across columns\n",
    "df=df.apply(splitname, axis='columns')\n",
    "df.head()"
   ]
  },
  {
   "cell_type": "code",
   "execution_count": 4,
   "metadata": {},
   "outputs": [
    {
     "output_type": "execute_result",
     "data": {
      "text/plain": [
       "        0           1\n",
       "0  George  Washington\n",
       "1    John       Adams\n",
       "2  Thomas   Jefferson\n",
       "3   James     Madison\n",
       "4   James      Monroe"
      ],
      "text/html": "<div>\n<style scoped>\n    .dataframe tbody tr th:only-of-type {\n        vertical-align: middle;\n    }\n\n    .dataframe tbody tr th {\n        vertical-align: top;\n    }\n\n    .dataframe thead th {\n        text-align: right;\n    }\n</style>\n<table border=\"1\" class=\"dataframe\">\n  <thead>\n    <tr style=\"text-align: right;\">\n      <th></th>\n      <th>0</th>\n      <th>1</th>\n    </tr>\n  </thead>\n  <tbody>\n    <tr>\n      <th>0</th>\n      <td>George</td>\n      <td>Washington</td>\n    </tr>\n    <tr>\n      <th>1</th>\n      <td>John</td>\n      <td>Adams</td>\n    </tr>\n    <tr>\n      <th>2</th>\n      <td>Thomas</td>\n      <td>Jefferson</td>\n    </tr>\n    <tr>\n      <th>3</th>\n      <td>James</td>\n      <td>Madison</td>\n    </tr>\n    <tr>\n      <th>4</th>\n      <td>James</td>\n      <td>Monroe</td>\n    </tr>\n  </tbody>\n</table>\n</div>"
     },
     "metadata": {},
     "execution_count": 4
    }
   ],
   "source": [
    "# Pretty questionable as to whether that is less gross, but it achieves the result and I find that I use the\n",
    "# apply() function regularly in my work. The pandas series has a couple of other nice convenience functions\n",
    "# though, and the next I would like to touch on is called .extract(). Lets drop our firstname and lastname.\n",
    "del(df['First'])\n",
    "del(df['Last'])\n",
    "\n",
    "# Extract takes a regular expression as input and specifically requires you to set capture groups that\n",
    "# correspond to the output columns you are interested in. And, this is a great place for you to pause the\n",
    "# video and reflect - if you were going to write a regular expression that returned groups and just had the\n",
    "# firstname and lastname in it, what would that look like?\n",
    "\n",
    "# Here's my solution, where we match three groups but only return two, the first and the last name\n",
    "# First group, strarting from any character or numbers 0 or more times\n",
    "# Second group, matches but we do not want to return it. Then we want any number of characters followed by a white space\n",
    "# Thirg droup, any number of characters or numbers but we want to anchor it in the back of the string\n",
    "pattern=\"(^[\\w]*)(?:.* )([\\w]*$)\"\n",
    "\n",
    "# Now the extract function is built into the str attribute of the Series object, so we can call it\n",
    "# using Series.str.extract(pattern)\n",
    "df[\"President\"].str.extract(pattern).head()"
   ]
  },
  {
   "cell_type": "code",
   "execution_count": 5,
   "metadata": {},
   "outputs": [
    {
     "output_type": "execute_result",
     "data": {
      "text/plain": [
       "    First        Last\n",
       "0  George  Washington\n",
       "1    John       Adams\n",
       "2  Thomas   Jefferson\n",
       "3   James     Madison\n",
       "4   James      Monroe"
      ],
      "text/html": "<div>\n<style scoped>\n    .dataframe tbody tr th:only-of-type {\n        vertical-align: middle;\n    }\n\n    .dataframe tbody tr th {\n        vertical-align: top;\n    }\n\n    .dataframe thead th {\n        text-align: right;\n    }\n</style>\n<table border=\"1\" class=\"dataframe\">\n  <thead>\n    <tr style=\"text-align: right;\">\n      <th></th>\n      <th>First</th>\n      <th>Last</th>\n    </tr>\n  </thead>\n  <tbody>\n    <tr>\n      <th>0</th>\n      <td>George</td>\n      <td>Washington</td>\n    </tr>\n    <tr>\n      <th>1</th>\n      <td>John</td>\n      <td>Adams</td>\n    </tr>\n    <tr>\n      <th>2</th>\n      <td>Thomas</td>\n      <td>Jefferson</td>\n    </tr>\n    <tr>\n      <th>3</th>\n      <td>James</td>\n      <td>Madison</td>\n    </tr>\n    <tr>\n      <th>4</th>\n      <td>James</td>\n      <td>Monroe</td>\n    </tr>\n  </tbody>\n</table>\n</div>"
     },
     "metadata": {},
     "execution_count": 5
    }
   ],
   "source": [
    "# So that looks pretty nice, other than the column names. But if we name the groups we get named columns out\n",
    "pattern=\"(?P<First>^[\\w]*)(?:.* )(?P<Last>[\\w]*$)\"\n",
    "\n",
    "# Now call extract\n",
    "names=df[\"President\"].str.extract(pattern).head()\n",
    "names"
   ]
  },
  {
   "cell_type": "code",
   "execution_count": 6,
   "metadata": {},
   "outputs": [
    {
     "output_type": "execute_result",
     "data": {
      "text/plain": [
       "   #          President             Born      Age atstart of presidency  \\\n",
       "0  1  George Washington  Feb 22, 1732[a]  57 years, 67 daysApr 30, 1789   \n",
       "1  2         John Adams  Oct 30, 1735[a]  61 years, 125 daysMar 4, 1797   \n",
       "2  3   Thomas Jefferson  Apr 13, 1743[a]  57 years, 325 daysMar 4, 1801   \n",
       "3  4      James Madison  Mar 16, 1751[a]  57 years, 353 daysMar 4, 1809   \n",
       "4  5       James Monroe     Apr 28, 1758  58 years, 310 daysMar 4, 1817   \n",
       "\n",
       "         Age atend of presidency Post-presidencytimespan          Died  \\\n",
       "0   65 years, 10 daysMar 4, 1797       2 years, 285 days  Dec 14, 1799   \n",
       "1  65 years, 125 daysMar 4, 1801      25 years, 122 days   Jul 4, 1826   \n",
       "2  65 years, 325 daysMar 4, 1809      17 years, 122 days   Jul 4, 1826   \n",
       "3  65 years, 353 daysMar 4, 1817      19 years, 116 days  Jun 28, 1836   \n",
       "4  66 years, 310 daysMar 4, 1825       6 years, 122 days   Jul 4, 1831   \n",
       "\n",
       "                  Age   First        Last  \n",
       "0  67 years, 295 days  George  Washington  \n",
       "1  90 years, 247 days    John       Adams  \n",
       "2   83 years, 82 days  Thomas   Jefferson  \n",
       "3  85 years, 104 days   James     Madison  \n",
       "4   73 years, 67 days   James      Monroe  "
      ],
      "text/html": "<div>\n<style scoped>\n    .dataframe tbody tr th:only-of-type {\n        vertical-align: middle;\n    }\n\n    .dataframe tbody tr th {\n        vertical-align: top;\n    }\n\n    .dataframe thead th {\n        text-align: right;\n    }\n</style>\n<table border=\"1\" class=\"dataframe\">\n  <thead>\n    <tr style=\"text-align: right;\">\n      <th></th>\n      <th>#</th>\n      <th>President</th>\n      <th>Born</th>\n      <th>Age atstart of presidency</th>\n      <th>Age atend of presidency</th>\n      <th>Post-presidencytimespan</th>\n      <th>Died</th>\n      <th>Age</th>\n      <th>First</th>\n      <th>Last</th>\n    </tr>\n  </thead>\n  <tbody>\n    <tr>\n      <th>0</th>\n      <td>1</td>\n      <td>George Washington</td>\n      <td>Feb 22, 1732[a]</td>\n      <td>57 years, 67 daysApr 30, 1789</td>\n      <td>65 years, 10 daysMar 4, 1797</td>\n      <td>2 years, 285 days</td>\n      <td>Dec 14, 1799</td>\n      <td>67 years, 295 days</td>\n      <td>George</td>\n      <td>Washington</td>\n    </tr>\n    <tr>\n      <th>1</th>\n      <td>2</td>\n      <td>John Adams</td>\n      <td>Oct 30, 1735[a]</td>\n      <td>61 years, 125 daysMar 4, 1797</td>\n      <td>65 years, 125 daysMar 4, 1801</td>\n      <td>25 years, 122 days</td>\n      <td>Jul 4, 1826</td>\n      <td>90 years, 247 days</td>\n      <td>John</td>\n      <td>Adams</td>\n    </tr>\n    <tr>\n      <th>2</th>\n      <td>3</td>\n      <td>Thomas Jefferson</td>\n      <td>Apr 13, 1743[a]</td>\n      <td>57 years, 325 daysMar 4, 1801</td>\n      <td>65 years, 325 daysMar 4, 1809</td>\n      <td>17 years, 122 days</td>\n      <td>Jul 4, 1826</td>\n      <td>83 years, 82 days</td>\n      <td>Thomas</td>\n      <td>Jefferson</td>\n    </tr>\n    <tr>\n      <th>3</th>\n      <td>4</td>\n      <td>James Madison</td>\n      <td>Mar 16, 1751[a]</td>\n      <td>57 years, 353 daysMar 4, 1809</td>\n      <td>65 years, 353 daysMar 4, 1817</td>\n      <td>19 years, 116 days</td>\n      <td>Jun 28, 1836</td>\n      <td>85 years, 104 days</td>\n      <td>James</td>\n      <td>Madison</td>\n    </tr>\n    <tr>\n      <th>4</th>\n      <td>5</td>\n      <td>James Monroe</td>\n      <td>Apr 28, 1758</td>\n      <td>58 years, 310 daysMar 4, 1817</td>\n      <td>66 years, 310 daysMar 4, 1825</td>\n      <td>6 years, 122 days</td>\n      <td>Jul 4, 1831</td>\n      <td>73 years, 67 days</td>\n      <td>James</td>\n      <td>Monroe</td>\n    </tr>\n  </tbody>\n</table>\n</div>"
     },
     "metadata": {},
     "execution_count": 6
    }
   ],
   "source": [
    "# And we can just copy these into our main dataframe if we want to\n",
    "df[\"First\"]=names[\"First\"]\n",
    "df[\"Last\"]=names[\"Last\"]\n",
    "df.head()"
   ]
  },
  {
   "cell_type": "code",
   "execution_count": 7,
   "metadata": {},
   "outputs": [],
   "source": [
    "# It's worth looking at the pandas str module for other functions which have been written specifically\n",
    "# to clean up strings in DataFrames, and you can find that in the docs in the Working with Text\n",
    "# section: https://pandas.pydata.org/pandas-docs/stable/user_guide/text.html"
   ]
  },
  {
   "cell_type": "code",
   "execution_count": 8,
   "metadata": {},
   "outputs": [
    {
     "output_type": "execute_result",
     "data": {
      "text/plain": [
       "0    Feb 22, 1732\n",
       "1    Oct 30, 1735\n",
       "2    Apr 13, 1743\n",
       "3    Mar 16, 1751\n",
       "4    Apr 28, 1758\n",
       "Name: Born, dtype: object"
      ]
     },
     "metadata": {},
     "execution_count": 8
    }
   ],
   "source": [
    "# Now lets move on to clean up that Born column. First, let's get rid of anything that isn't in the\n",
    "# pattern of Month Day and Year.\n",
    "df[\"Born\"]=df[\"Born\"].str.extract(\"([\\w]{3} [\\w]{1,2}, [\\w]{4})\")\n",
    "df[\"Born\"].head()"
   ]
  },
  {
   "cell_type": "code",
   "execution_count": 9,
   "metadata": {},
   "outputs": [
    {
     "output_type": "execute_result",
     "data": {
      "text/plain": [
       "0   1732-02-22\n",
       "1   1735-10-30\n",
       "2   1743-04-13\n",
       "3   1751-03-16\n",
       "4   1758-04-28\n",
       "Name: Born, dtype: datetime64[ns]"
      ]
     },
     "metadata": {},
     "execution_count": 9
    }
   ],
   "source": [
    "# So, that cleans up the date format. But I'm going to foreshadow something else here - the type of this\n",
    "# column is object, and we know that's what pandas uses when it is dealing with string. But pandas actually\n",
    "# has really interesting date/time features - in fact, that's one of the reasons Wes McKinney put his efforts\n",
    "# into the library, to deal with financial transactions. So if I were building this out, I would actually\n",
    "# update this column to the write data type as well\n",
    "df[\"Born\"]=pd.to_datetime(df[\"Born\"])\n",
    "df[\"Born\"].head()"
   ]
  },
  {
   "cell_type": "code",
   "execution_count": 10,
   "metadata": {},
   "outputs": [],
   "source": [
    "# This would make subsequent processing on the dataframe around dates, such as getting every President who\n",
    "# was born in a given time span, much easier."
   ]
  },
  {
   "source": [
    "<p style=\"font-size:17px;font-family:Open Sans;color:Tan\">\n",
    "Now, most of the other columns in this dataset I would clean in a similar fashion. And this would be a good practice activity for you, so I would recommend that you pause the video, open up the notebook for the lecture if you don't already have it opened, and then finish cleaning up this dataframe. In this lecture I introduced you to the str module which has a number of important functions for cleaning pandas dataframes. You don't have to use these - I actually use apply() quite a bit myself, especially if I don't need high performance data cleaning because my dataset is small. But the str functions are incredibly useful and build on your existing knowledge of regular expressions, and because they are vectorized they are efficient to use as well.\n",
    "</p>"
   ],
   "cell_type": "markdown",
   "metadata": {}
  },
  {
   "cell_type": "code",
   "execution_count": 19,
   "metadata": {},
   "outputs": [
    {
     "output_type": "execute_result",
     "data": {
      "text/plain": [
       "     #            President       Born       Age atstart of presidency  \\\n",
       "0    1    George Washington 1732-02-22   57 years, 67 daysApr 30, 1789   \n",
       "1    2           John Adams 1735-10-30   61 years, 125 daysMar 4, 1797   \n",
       "2    3     Thomas Jefferson 1743-04-13   57 years, 325 daysMar 4, 1801   \n",
       "3    4        James Madison 1751-03-16   57 years, 353 daysMar 4, 1809   \n",
       "4    5         James Monroe 1758-04-28   58 years, 310 daysMar 4, 1817   \n",
       "5    6    John Quincy Adams 1767-07-11   57 years, 236 daysMar 4, 1825   \n",
       "6    7       Andrew Jackson 1767-03-15   61 years, 354 daysMar 4, 1829   \n",
       "7    8     Martin Van Buren 1782-12-05    54 years, 89 daysMar 4, 1837   \n",
       "8    9  William H. Harrison 1773-02-09    68 years, 23 daysMar 4, 1841   \n",
       "9   10           John Tyler 1790-03-29     51 years, 6 daysApr 4, 1841   \n",
       "10  11        James K. Polk 1795-11-02   49 years, 122 daysMar 4, 1845   \n",
       "11  12       Zachary Taylor 1784-11-24   64 years, 100 daysMar 4, 1849   \n",
       "12  13     Millard Fillmore 1800-01-07   50 years, 183 daysJul 9, 1850   \n",
       "13  14      Franklin Pierce 1804-11-23   48 years, 101 daysMar 4, 1853   \n",
       "14  15       James Buchanan 1791-04-23   65 years, 315 daysMar 4, 1857   \n",
       "15  16      Abraham Lincoln 1809-02-12    52 years, 20 daysMar 4, 1861   \n",
       "16  17       Andrew Johnson 1808-12-29  56 years, 107 daysApr 15, 1865   \n",
       "17  18     Ulysses S. Grant 1822-04-27   46 years, 311 daysMar 4, 1869   \n",
       "18  19  Rutherford B. Hayes 1822-10-04   54 years, 151 daysMar 4, 1877   \n",
       "19  20    James A. Garfield 1831-11-19   49 years, 105 daysMar 4, 1881   \n",
       "\n",
       "              Age atend of presidency Post-presidencytimespan       Died  \\\n",
       "0        65 years, 10 daysMar 4, 1797       2 years, 285 days 1799-12-14   \n",
       "1       65 years, 125 daysMar 4, 1801      25 years, 122 days 1826-07-04   \n",
       "2       65 years, 325 daysMar 4, 1809      17 years, 122 days 1826-07-04   \n",
       "3       65 years, 353 daysMar 4, 1817      19 years, 116 days 1836-06-28   \n",
       "4       66 years, 310 daysMar 4, 1825       6 years, 122 days 1831-07-04   \n",
       "5       61 years, 236 daysMar 4, 1829      18 years, 356 days 1848-02-23   \n",
       "6       69 years, 354 daysMar 4, 1837        8 years, 96 days 1845-06-08   \n",
       "7        58 years, 89 daysMar 4, 1841      21 years, 142 days 1862-07-24   \n",
       "8    68 years, 54 days Apr 4, 1841[b]                     NaN 1841-04-04   \n",
       "9       54 years, 340 daysMar 4, 1845      16 years, 320 days 1862-01-18   \n",
       "10      53 years, 122 daysMar 4, 1849                103 days 1849-06-15   \n",
       "11   65 years, 227 daysJul 9, 1850[b]                     NaN 1850-07-09   \n",
       "12       53 years, 56 daysMar 4, 1853        21 years, 4 days 1874-03-08   \n",
       "13      52 years, 101 daysMar 4, 1857      12 years, 218 days 1869-10-08   \n",
       "14      69 years, 315 daysMar 4, 1861        7 years, 89 days 1868-06-01   \n",
       "15   56 years, 62 daysApr 15, 1865[b]                     NaN 1865-04-15   \n",
       "16       60 years, 65 daysMar 4, 1869       6 years, 149 days 1875-07-31   \n",
       "17      54 years, 311 daysMar 4, 1877       8 years, 141 days 1885-07-23   \n",
       "18      58 years, 151 daysMar 4, 1881      11 years, 319 days 1893-01-17   \n",
       "19  49 years, 304 daysSep 19, 1881[b]                     NaN 1881-09-19   \n",
       "\n",
       "                   Age   First        Last  \n",
       "0   67 years, 295 days  George  Washington  \n",
       "1   90 years, 247 days    John       Adams  \n",
       "2    83 years, 82 days  Thomas   Jefferson  \n",
       "3   85 years, 104 days   James     Madison  \n",
       "4    73 years, 67 days   James      Monroe  \n",
       "5   80 years, 227 days     NaN         NaN  \n",
       "6    78 years, 85 days     NaN         NaN  \n",
       "7   79 years, 231 days     NaN         NaN  \n",
       "8    68 years, 54 days     NaN         NaN  \n",
       "9   71 years, 295 days     NaN         NaN  \n",
       "10  53 years, 225 days     NaN         NaN  \n",
       "11  65 years, 227 days     NaN         NaN  \n",
       "12   74 years, 60 days     NaN         NaN  \n",
       "13  64 years, 319 days     NaN         NaN  \n",
       "14   77 years, 39 days     NaN         NaN  \n",
       "15   56 years, 62 days     NaN         NaN  \n",
       "16  66 years, 214 days     NaN         NaN  \n",
       "17   63 years, 87 days     NaN         NaN  \n",
       "18  70 years, 105 days     NaN         NaN  \n",
       "19  49 years, 304 days     NaN         NaN  "
      ],
      "text/html": "<div>\n<style scoped>\n    .dataframe tbody tr th:only-of-type {\n        vertical-align: middle;\n    }\n\n    .dataframe tbody tr th {\n        vertical-align: top;\n    }\n\n    .dataframe thead th {\n        text-align: right;\n    }\n</style>\n<table border=\"1\" class=\"dataframe\">\n  <thead>\n    <tr style=\"text-align: right;\">\n      <th></th>\n      <th>#</th>\n      <th>President</th>\n      <th>Born</th>\n      <th>Age atstart of presidency</th>\n      <th>Age atend of presidency</th>\n      <th>Post-presidencytimespan</th>\n      <th>Died</th>\n      <th>Age</th>\n      <th>First</th>\n      <th>Last</th>\n    </tr>\n  </thead>\n  <tbody>\n    <tr>\n      <th>0</th>\n      <td>1</td>\n      <td>George Washington</td>\n      <td>1732-02-22</td>\n      <td>57 years, 67 daysApr 30, 1789</td>\n      <td>65 years, 10 daysMar 4, 1797</td>\n      <td>2 years, 285 days</td>\n      <td>1799-12-14</td>\n      <td>67 years, 295 days</td>\n      <td>George</td>\n      <td>Washington</td>\n    </tr>\n    <tr>\n      <th>1</th>\n      <td>2</td>\n      <td>John Adams</td>\n      <td>1735-10-30</td>\n      <td>61 years, 125 daysMar 4, 1797</td>\n      <td>65 years, 125 daysMar 4, 1801</td>\n      <td>25 years, 122 days</td>\n      <td>1826-07-04</td>\n      <td>90 years, 247 days</td>\n      <td>John</td>\n      <td>Adams</td>\n    </tr>\n    <tr>\n      <th>2</th>\n      <td>3</td>\n      <td>Thomas Jefferson</td>\n      <td>1743-04-13</td>\n      <td>57 years, 325 daysMar 4, 1801</td>\n      <td>65 years, 325 daysMar 4, 1809</td>\n      <td>17 years, 122 days</td>\n      <td>1826-07-04</td>\n      <td>83 years, 82 days</td>\n      <td>Thomas</td>\n      <td>Jefferson</td>\n    </tr>\n    <tr>\n      <th>3</th>\n      <td>4</td>\n      <td>James Madison</td>\n      <td>1751-03-16</td>\n      <td>57 years, 353 daysMar 4, 1809</td>\n      <td>65 years, 353 daysMar 4, 1817</td>\n      <td>19 years, 116 days</td>\n      <td>1836-06-28</td>\n      <td>85 years, 104 days</td>\n      <td>James</td>\n      <td>Madison</td>\n    </tr>\n    <tr>\n      <th>4</th>\n      <td>5</td>\n      <td>James Monroe</td>\n      <td>1758-04-28</td>\n      <td>58 years, 310 daysMar 4, 1817</td>\n      <td>66 years, 310 daysMar 4, 1825</td>\n      <td>6 years, 122 days</td>\n      <td>1831-07-04</td>\n      <td>73 years, 67 days</td>\n      <td>James</td>\n      <td>Monroe</td>\n    </tr>\n    <tr>\n      <th>5</th>\n      <td>6</td>\n      <td>John Quincy Adams</td>\n      <td>1767-07-11</td>\n      <td>57 years, 236 daysMar 4, 1825</td>\n      <td>61 years, 236 daysMar 4, 1829</td>\n      <td>18 years, 356 days</td>\n      <td>1848-02-23</td>\n      <td>80 years, 227 days</td>\n      <td>NaN</td>\n      <td>NaN</td>\n    </tr>\n    <tr>\n      <th>6</th>\n      <td>7</td>\n      <td>Andrew Jackson</td>\n      <td>1767-03-15</td>\n      <td>61 years, 354 daysMar 4, 1829</td>\n      <td>69 years, 354 daysMar 4, 1837</td>\n      <td>8 years, 96 days</td>\n      <td>1845-06-08</td>\n      <td>78 years, 85 days</td>\n      <td>NaN</td>\n      <td>NaN</td>\n    </tr>\n    <tr>\n      <th>7</th>\n      <td>8</td>\n      <td>Martin Van Buren</td>\n      <td>1782-12-05</td>\n      <td>54 years, 89 daysMar 4, 1837</td>\n      <td>58 years, 89 daysMar 4, 1841</td>\n      <td>21 years, 142 days</td>\n      <td>1862-07-24</td>\n      <td>79 years, 231 days</td>\n      <td>NaN</td>\n      <td>NaN</td>\n    </tr>\n    <tr>\n      <th>8</th>\n      <td>9</td>\n      <td>William H. Harrison</td>\n      <td>1773-02-09</td>\n      <td>68 years, 23 daysMar 4, 1841</td>\n      <td>68 years, 54 days Apr 4, 1841[b]</td>\n      <td>NaN</td>\n      <td>1841-04-04</td>\n      <td>68 years, 54 days</td>\n      <td>NaN</td>\n      <td>NaN</td>\n    </tr>\n    <tr>\n      <th>9</th>\n      <td>10</td>\n      <td>John Tyler</td>\n      <td>1790-03-29</td>\n      <td>51 years, 6 daysApr 4, 1841</td>\n      <td>54 years, 340 daysMar 4, 1845</td>\n      <td>16 years, 320 days</td>\n      <td>1862-01-18</td>\n      <td>71 years, 295 days</td>\n      <td>NaN</td>\n      <td>NaN</td>\n    </tr>\n    <tr>\n      <th>10</th>\n      <td>11</td>\n      <td>James K. Polk</td>\n      <td>1795-11-02</td>\n      <td>49 years, 122 daysMar 4, 1845</td>\n      <td>53 years, 122 daysMar 4, 1849</td>\n      <td>103 days</td>\n      <td>1849-06-15</td>\n      <td>53 years, 225 days</td>\n      <td>NaN</td>\n      <td>NaN</td>\n    </tr>\n    <tr>\n      <th>11</th>\n      <td>12</td>\n      <td>Zachary Taylor</td>\n      <td>1784-11-24</td>\n      <td>64 years, 100 daysMar 4, 1849</td>\n      <td>65 years, 227 daysJul 9, 1850[b]</td>\n      <td>NaN</td>\n      <td>1850-07-09</td>\n      <td>65 years, 227 days</td>\n      <td>NaN</td>\n      <td>NaN</td>\n    </tr>\n    <tr>\n      <th>12</th>\n      <td>13</td>\n      <td>Millard Fillmore</td>\n      <td>1800-01-07</td>\n      <td>50 years, 183 daysJul 9, 1850</td>\n      <td>53 years, 56 daysMar 4, 1853</td>\n      <td>21 years, 4 days</td>\n      <td>1874-03-08</td>\n      <td>74 years, 60 days</td>\n      <td>NaN</td>\n      <td>NaN</td>\n    </tr>\n    <tr>\n      <th>13</th>\n      <td>14</td>\n      <td>Franklin Pierce</td>\n      <td>1804-11-23</td>\n      <td>48 years, 101 daysMar 4, 1853</td>\n      <td>52 years, 101 daysMar 4, 1857</td>\n      <td>12 years, 218 days</td>\n      <td>1869-10-08</td>\n      <td>64 years, 319 days</td>\n      <td>NaN</td>\n      <td>NaN</td>\n    </tr>\n    <tr>\n      <th>14</th>\n      <td>15</td>\n      <td>James Buchanan</td>\n      <td>1791-04-23</td>\n      <td>65 years, 315 daysMar 4, 1857</td>\n      <td>69 years, 315 daysMar 4, 1861</td>\n      <td>7 years, 89 days</td>\n      <td>1868-06-01</td>\n      <td>77 years, 39 days</td>\n      <td>NaN</td>\n      <td>NaN</td>\n    </tr>\n    <tr>\n      <th>15</th>\n      <td>16</td>\n      <td>Abraham Lincoln</td>\n      <td>1809-02-12</td>\n      <td>52 years, 20 daysMar 4, 1861</td>\n      <td>56 years, 62 daysApr 15, 1865[b]</td>\n      <td>NaN</td>\n      <td>1865-04-15</td>\n      <td>56 years, 62 days</td>\n      <td>NaN</td>\n      <td>NaN</td>\n    </tr>\n    <tr>\n      <th>16</th>\n      <td>17</td>\n      <td>Andrew Johnson</td>\n      <td>1808-12-29</td>\n      <td>56 years, 107 daysApr 15, 1865</td>\n      <td>60 years, 65 daysMar 4, 1869</td>\n      <td>6 years, 149 days</td>\n      <td>1875-07-31</td>\n      <td>66 years, 214 days</td>\n      <td>NaN</td>\n      <td>NaN</td>\n    </tr>\n    <tr>\n      <th>17</th>\n      <td>18</td>\n      <td>Ulysses S. Grant</td>\n      <td>1822-04-27</td>\n      <td>46 years, 311 daysMar 4, 1869</td>\n      <td>54 years, 311 daysMar 4, 1877</td>\n      <td>8 years, 141 days</td>\n      <td>1885-07-23</td>\n      <td>63 years, 87 days</td>\n      <td>NaN</td>\n      <td>NaN</td>\n    </tr>\n    <tr>\n      <th>18</th>\n      <td>19</td>\n      <td>Rutherford B. Hayes</td>\n      <td>1822-10-04</td>\n      <td>54 years, 151 daysMar 4, 1877</td>\n      <td>58 years, 151 daysMar 4, 1881</td>\n      <td>11 years, 319 days</td>\n      <td>1893-01-17</td>\n      <td>70 years, 105 days</td>\n      <td>NaN</td>\n      <td>NaN</td>\n    </tr>\n    <tr>\n      <th>19</th>\n      <td>20</td>\n      <td>James A. Garfield</td>\n      <td>1831-11-19</td>\n      <td>49 years, 105 daysMar 4, 1881</td>\n      <td>49 years, 304 daysSep 19, 1881[b]</td>\n      <td>NaN</td>\n      <td>1881-09-19</td>\n      <td>49 years, 304 days</td>\n      <td>NaN</td>\n      <td>NaN</td>\n    </tr>\n  </tbody>\n</table>\n</div>"
     },
     "metadata": {},
     "execution_count": 19
    }
   ],
   "source": [
    "df[\"Died\"]=pd.to_datetime(df[\"Died\"],errors='coerce',dayfirst=True)\n",
    "df.head(20)"
   ]
  },
  {
   "cell_type": "code",
   "execution_count": null,
   "metadata": {},
   "outputs": [],
   "source": []
  }
 ]
}